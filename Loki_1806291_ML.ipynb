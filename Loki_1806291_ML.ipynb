{
 "cells": [
  {
   "cell_type": "code",
   "execution_count": 35,
   "metadata": {},
   "outputs": [
    {
     "data": {
      "text/plain": [
       "(50000, 19)"
      ]
     },
     "execution_count": 35,
     "metadata": {},
     "output_type": "execute_result"
    }
   ],
   "source": [
    "#importing required libs\n",
    "import warnings\n",
    "warnings.filterwarnings('ignore')\n",
    "import pandas as pd\n",
    "import numpy as np\n",
    "from sklearn.model_selection import train_test_split\n",
    "import seaborn as sns\n",
    "import matplotlib.pyplot as plt\n",
    "%matplotlib inline\n",
    "from sklearn.feature_selection import VarianceThreshold\n",
    "from datetime import datetime\n",
    "df = pd.read_csv(r'1806291.csv')\n",
    "df.shape"
   ]
  },
  {
   "cell_type": "code",
   "execution_count": 36,
   "metadata": {},
   "outputs": [
    {
     "data": {
      "text/html": [
       "<div>\n",
       "<style scoped>\n",
       "    .dataframe tbody tr th:only-of-type {\n",
       "        vertical-align: middle;\n",
       "    }\n",
       "\n",
       "    .dataframe tbody tr th {\n",
       "        vertical-align: top;\n",
       "    }\n",
       "\n",
       "    .dataframe thead th {\n",
       "        text-align: right;\n",
       "    }\n",
       "</style>\n",
       "<table border=\"1\" class=\"dataframe\">\n",
       "  <thead>\n",
       "    <tr style=\"text-align: right;\">\n",
       "      <th></th>\n",
       "      <th>business_code</th>\n",
       "      <th>cust_number</th>\n",
       "      <th>name_customer</th>\n",
       "      <th>clear_date</th>\n",
       "      <th>buisness_year</th>\n",
       "      <th>doc_id</th>\n",
       "      <th>posting_date</th>\n",
       "      <th>document_create_date</th>\n",
       "      <th>document_create_date.1</th>\n",
       "      <th>due_in_date</th>\n",
       "      <th>invoice_currency</th>\n",
       "      <th>document type</th>\n",
       "      <th>posting_id</th>\n",
       "      <th>area_business</th>\n",
       "      <th>total_open_amount</th>\n",
       "      <th>baseline_create_date</th>\n",
       "      <th>cust_payment_terms</th>\n",
       "      <th>invoice_id</th>\n",
       "      <th>isOpen</th>\n",
       "    </tr>\n",
       "  </thead>\n",
       "  <tbody>\n",
       "    <tr>\n",
       "      <th>0</th>\n",
       "      <td>CA02</td>\n",
       "      <td>0100034821</td>\n",
       "      <td>17135 systems</td>\n",
       "      <td>2019-05-03 00:00:00</td>\n",
       "      <td>2019.0</td>\n",
       "      <td>2.960542e+09</td>\n",
       "      <td>2019-04-15</td>\n",
       "      <td>20190415</td>\n",
       "      <td>20190415</td>\n",
       "      <td>20190427.0</td>\n",
       "      <td>CAD</td>\n",
       "      <td>RV</td>\n",
       "      <td>1.0</td>\n",
       "      <td>NaN</td>\n",
       "      <td>18960.00</td>\n",
       "      <td>20190417.0</td>\n",
       "      <td>CA10</td>\n",
       "      <td>2.960542e+09</td>\n",
       "      <td>0</td>\n",
       "    </tr>\n",
       "    <tr>\n",
       "      <th>6314</th>\n",
       "      <td>CA02</td>\n",
       "      <td>0100034821</td>\n",
       "      <td>17135 us</td>\n",
       "      <td>2019-06-04 00:00:00</td>\n",
       "      <td>2019.0</td>\n",
       "      <td>2.960548e+09</td>\n",
       "      <td>2019-05-10</td>\n",
       "      <td>20190510</td>\n",
       "      <td>20190510</td>\n",
       "      <td>20190523.0</td>\n",
       "      <td>CAD</td>\n",
       "      <td>RV</td>\n",
       "      <td>1.0</td>\n",
       "      <td>NaN</td>\n",
       "      <td>14216.40</td>\n",
       "      <td>20190513.0</td>\n",
       "      <td>CA10</td>\n",
       "      <td>2.960548e+09</td>\n",
       "      <td>0</td>\n",
       "    </tr>\n",
       "    <tr>\n",
       "      <th>45328</th>\n",
       "      <td>CA02</td>\n",
       "      <td>0100034821</td>\n",
       "      <td>17135 trust</td>\n",
       "      <td>NaN</td>\n",
       "      <td>2020.0</td>\n",
       "      <td>2.960626e+09</td>\n",
       "      <td>2020-04-03</td>\n",
       "      <td>20200403</td>\n",
       "      <td>20200403</td>\n",
       "      <td>20200414.0</td>\n",
       "      <td>CAD</td>\n",
       "      <td>RV</td>\n",
       "      <td>1.0</td>\n",
       "      <td>NaN</td>\n",
       "      <td>5197.92</td>\n",
       "      <td>20200404.0</td>\n",
       "      <td>CA10</td>\n",
       "      <td>2.960626e+09</td>\n",
       "      <td>1</td>\n",
       "    </tr>\n",
       "  </tbody>\n",
       "</table>\n",
       "</div>"
      ],
      "text/plain": [
       "      business_code cust_number  name_customer           clear_date  \\\n",
       "0              CA02  0100034821  17135 systems  2019-05-03 00:00:00   \n",
       "6314           CA02  0100034821       17135 us  2019-06-04 00:00:00   \n",
       "45328          CA02  0100034821    17135 trust                  NaN   \n",
       "\n",
       "       buisness_year        doc_id posting_date  document_create_date  \\\n",
       "0             2019.0  2.960542e+09   2019-04-15              20190415   \n",
       "6314          2019.0  2.960548e+09   2019-05-10              20190510   \n",
       "45328         2020.0  2.960626e+09   2020-04-03              20200403   \n",
       "\n",
       "       document_create_date.1  due_in_date invoice_currency document type  \\\n",
       "0                    20190415   20190427.0              CAD            RV   \n",
       "6314                 20190510   20190523.0              CAD            RV   \n",
       "45328                20200403   20200414.0              CAD            RV   \n",
       "\n",
       "       posting_id  area_business  total_open_amount  baseline_create_date  \\\n",
       "0             1.0            NaN           18960.00            20190417.0   \n",
       "6314          1.0            NaN           14216.40            20190513.0   \n",
       "45328         1.0            NaN            5197.92            20200404.0   \n",
       "\n",
       "      cust_payment_terms    invoice_id  isOpen  \n",
       "0                   CA10  2.960542e+09       0  \n",
       "6314                CA10  2.960548e+09       0  \n",
       "45328               CA10  2.960626e+09       1  "
      ]
     },
     "execution_count": 36,
     "metadata": {},
     "output_type": "execute_result"
    }
   ],
   "source": [
    "df.head()\n",
    "df[df['cust_number']==\"0100034821\"]"
   ]
  },
  {
   "cell_type": "code",
   "execution_count": 37,
   "metadata": {},
   "outputs": [],
   "source": [
    "#coverting all the dates value in datetime formate\n",
    "df['document_create_date'] = pd.to_datetime(df['document_create_date'],format='%Y%m%d')\n",
    "df['document_create_date.1'] = pd.to_datetime(df['document_create_date.1'].astype(str))\n",
    "df['due_in_date'] = pd.to_datetime(df['due_in_date'],format='%Y%m%d')\n",
    "df['baseline_create_date'] = pd.to_datetime(df['baseline_create_date'],format='%Y%m%d')\n",
    "df['clear_date'] = pd.to_datetime(df['clear_date'].astype(str))\n",
    "df['posting_date'] = pd.to_datetime(df['posting_date'].astype(str))"
   ]
  },
  {
   "cell_type": "code",
   "execution_count": 38,
   "metadata": {},
   "outputs": [
    {
     "data": {
      "text/html": [
       "<div>\n",
       "<style scoped>\n",
       "    .dataframe tbody tr th:only-of-type {\n",
       "        vertical-align: middle;\n",
       "    }\n",
       "\n",
       "    .dataframe tbody tr th {\n",
       "        vertical-align: top;\n",
       "    }\n",
       "\n",
       "    .dataframe thead th {\n",
       "        text-align: right;\n",
       "    }\n",
       "</style>\n",
       "<table border=\"1\" class=\"dataframe\">\n",
       "  <thead>\n",
       "    <tr style=\"text-align: right;\">\n",
       "      <th></th>\n",
       "      <th>business_code</th>\n",
       "      <th>cust_number</th>\n",
       "      <th>name_customer</th>\n",
       "      <th>clear_date</th>\n",
       "      <th>buisness_year</th>\n",
       "      <th>doc_id</th>\n",
       "      <th>posting_date</th>\n",
       "      <th>document_create_date</th>\n",
       "      <th>document_create_date.1</th>\n",
       "      <th>due_in_date</th>\n",
       "      <th>invoice_currency</th>\n",
       "      <th>document type</th>\n",
       "      <th>posting_id</th>\n",
       "      <th>area_business</th>\n",
       "      <th>total_open_amount</th>\n",
       "      <th>baseline_create_date</th>\n",
       "      <th>cust_payment_terms</th>\n",
       "      <th>invoice_id</th>\n",
       "      <th>isOpen</th>\n",
       "    </tr>\n",
       "  </thead>\n",
       "  <tbody>\n",
       "    <tr>\n",
       "      <th>0</th>\n",
       "      <td>CA02</td>\n",
       "      <td>0100034821</td>\n",
       "      <td>17135 systems</td>\n",
       "      <td>2019-05-03</td>\n",
       "      <td>2019.0</td>\n",
       "      <td>2.960542e+09</td>\n",
       "      <td>2019-04-15</td>\n",
       "      <td>2019-04-15</td>\n",
       "      <td>2019-04-15</td>\n",
       "      <td>2019-04-27</td>\n",
       "      <td>CAD</td>\n",
       "      <td>RV</td>\n",
       "      <td>1.0</td>\n",
       "      <td>NaN</td>\n",
       "      <td>18960.00</td>\n",
       "      <td>2019-04-17</td>\n",
       "      <td>CA10</td>\n",
       "      <td>2.960542e+09</td>\n",
       "      <td>0</td>\n",
       "    </tr>\n",
       "    <tr>\n",
       "      <th>1</th>\n",
       "      <td>U001</td>\n",
       "      <td>200744019</td>\n",
       "      <td>TARG associates</td>\n",
       "      <td>2019-05-20</td>\n",
       "      <td>2019.0</td>\n",
       "      <td>1.929251e+09</td>\n",
       "      <td>2019-05-03</td>\n",
       "      <td>2019-05-03</td>\n",
       "      <td>2019-05-03</td>\n",
       "      <td>2019-05-18</td>\n",
       "      <td>USD</td>\n",
       "      <td>RV</td>\n",
       "      <td>1.0</td>\n",
       "      <td>NaN</td>\n",
       "      <td>107230.06</td>\n",
       "      <td>2019-05-03</td>\n",
       "      <td>NAA8</td>\n",
       "      <td>1.929251e+09</td>\n",
       "      <td>0</td>\n",
       "    </tr>\n",
       "    <tr>\n",
       "      <th>2</th>\n",
       "      <td>U001</td>\n",
       "      <td>0200772670</td>\n",
       "      <td>ASSOCIAT co</td>\n",
       "      <td>2019-10-16</td>\n",
       "      <td>2019.0</td>\n",
       "      <td>1.929946e+09</td>\n",
       "      <td>2019-09-30</td>\n",
       "      <td>2019-10-01</td>\n",
       "      <td>2019-09-30</td>\n",
       "      <td>2019-10-15</td>\n",
       "      <td>USD</td>\n",
       "      <td>RV</td>\n",
       "      <td>1.0</td>\n",
       "      <td>NaN</td>\n",
       "      <td>1029.78</td>\n",
       "      <td>2019-09-30</td>\n",
       "      <td>NAU5</td>\n",
       "      <td>1.929946e+09</td>\n",
       "      <td>0</td>\n",
       "    </tr>\n",
       "    <tr>\n",
       "      <th>3</th>\n",
       "      <td>U001</td>\n",
       "      <td>0200418007</td>\n",
       "      <td>AM in</td>\n",
       "      <td>2019-12-19</td>\n",
       "      <td>2019.0</td>\n",
       "      <td>1.930192e+09</td>\n",
       "      <td>2019-11-27</td>\n",
       "      <td>2019-11-25</td>\n",
       "      <td>2019-11-27</td>\n",
       "      <td>2019-12-12</td>\n",
       "      <td>USD</td>\n",
       "      <td>RV</td>\n",
       "      <td>1.0</td>\n",
       "      <td>NaN</td>\n",
       "      <td>8897.61</td>\n",
       "      <td>2019-11-27</td>\n",
       "      <td>NAA8</td>\n",
       "      <td>1.930192e+09</td>\n",
       "      <td>0</td>\n",
       "    </tr>\n",
       "    <tr>\n",
       "      <th>4</th>\n",
       "      <td>U001</td>\n",
       "      <td>200769623</td>\n",
       "      <td>WAL-MAR in</td>\n",
       "      <td>2019-06-06</td>\n",
       "      <td>2019.0</td>\n",
       "      <td>1.929349e+09</td>\n",
       "      <td>2019-05-21</td>\n",
       "      <td>2019-05-20</td>\n",
       "      <td>2019-05-21</td>\n",
       "      <td>2019-06-05</td>\n",
       "      <td>USD</td>\n",
       "      <td>RV</td>\n",
       "      <td>1.0</td>\n",
       "      <td>NaN</td>\n",
       "      <td>59590.69</td>\n",
       "      <td>2019-05-21</td>\n",
       "      <td>NAH4</td>\n",
       "      <td>1.929349e+09</td>\n",
       "      <td>0</td>\n",
       "    </tr>\n",
       "  </tbody>\n",
       "</table>\n",
       "</div>"
      ],
      "text/plain": [
       "  business_code cust_number    name_customer clear_date  buisness_year  \\\n",
       "0          CA02  0100034821    17135 systems 2019-05-03         2019.0   \n",
       "1          U001   200744019  TARG associates 2019-05-20         2019.0   \n",
       "2          U001  0200772670      ASSOCIAT co 2019-10-16         2019.0   \n",
       "3          U001  0200418007            AM in 2019-12-19         2019.0   \n",
       "4          U001   200769623       WAL-MAR in 2019-06-06         2019.0   \n",
       "\n",
       "         doc_id posting_date document_create_date document_create_date.1  \\\n",
       "0  2.960542e+09   2019-04-15           2019-04-15             2019-04-15   \n",
       "1  1.929251e+09   2019-05-03           2019-05-03             2019-05-03   \n",
       "2  1.929946e+09   2019-09-30           2019-10-01             2019-09-30   \n",
       "3  1.930192e+09   2019-11-27           2019-11-25             2019-11-27   \n",
       "4  1.929349e+09   2019-05-21           2019-05-20             2019-05-21   \n",
       "\n",
       "  due_in_date invoice_currency document type  posting_id  area_business  \\\n",
       "0  2019-04-27              CAD            RV         1.0            NaN   \n",
       "1  2019-05-18              USD            RV         1.0            NaN   \n",
       "2  2019-10-15              USD            RV         1.0            NaN   \n",
       "3  2019-12-12              USD            RV         1.0            NaN   \n",
       "4  2019-06-05              USD            RV         1.0            NaN   \n",
       "\n",
       "   total_open_amount baseline_create_date cust_payment_terms    invoice_id  \\\n",
       "0           18960.00           2019-04-17               CA10  2.960542e+09   \n",
       "1          107230.06           2019-05-03               NAA8  1.929251e+09   \n",
       "2            1029.78           2019-09-30               NAU5  1.929946e+09   \n",
       "3            8897.61           2019-11-27               NAA8  1.930192e+09   \n",
       "4           59590.69           2019-05-21               NAH4  1.929349e+09   \n",
       "\n",
       "   isOpen  \n",
       "0       0  \n",
       "1       0  \n",
       "2       0  \n",
       "3       0  \n",
       "4       0  "
      ]
     },
     "execution_count": 38,
     "metadata": {},
     "output_type": "execute_result"
    }
   ],
   "source": [
    "df.head()"
   ]
  },
  {
   "cell_type": "code",
   "execution_count": 39,
   "metadata": {},
   "outputs": [
    {
     "data": {
      "text/plain": [
       "Int64Index([45033, 45034, 45035, 45036, 45037, 45038, 45039, 45040, 45041,\n",
       "            45042,\n",
       "            ...\n",
       "            49990, 49991, 49992, 49993, 49994, 49995, 49996, 49997, 49998,\n",
       "            49999],\n",
       "           dtype='int64', length=4967)"
      ]
     },
     "execution_count": 39,
     "metadata": {},
     "output_type": "execute_result"
    }
   ],
   "source": [
    "index_with_nan = df.index[df['clear_date'].isnull()]\n",
    "index_with_nan"
   ]
  },
  {
   "cell_type": "code",
   "execution_count": 40,
   "metadata": {},
   "outputs": [],
   "source": [
    "df1 = df[df.clear_date.notna()] #datas with clearing date not NaN\n",
    "df2 = df[df.clear_date.isna()] #datas with clearing date NaN\n"
   ]
  },
  {
   "cell_type": "code",
   "execution_count": 41,
   "metadata": {},
   "outputs": [],
   "source": [
    "#creating my target column with as delay\n",
    "df1['delay'] = (pd.to_datetime(df1.clear_date) - pd.to_datetime(df1.due_in_date)).dt.days"
   ]
  },
  {
   "cell_type": "code",
   "execution_count": 42,
   "metadata": {},
   "outputs": [
    {
     "data": {
      "text/plain": [
       "business_code             0.000000\n",
       "cust_number               0.000000\n",
       "name_customer             0.000000\n",
       "clear_date                0.000000\n",
       "buisness_year             0.000000\n",
       "doc_id                    0.000000\n",
       "posting_date              0.000000\n",
       "document_create_date      0.000000\n",
       "document_create_date.1    0.000000\n",
       "due_in_date               0.000000\n",
       "invoice_currency          0.000000\n",
       "document type             0.000000\n",
       "posting_id                0.000000\n",
       "area_business             1.000000\n",
       "total_open_amount         0.000000\n",
       "baseline_create_date      0.000000\n",
       "cust_payment_terms        0.000000\n",
       "invoice_id                0.000155\n",
       "isOpen                    0.000000\n",
       "delay                     0.000000\n",
       "dtype: float64"
      ]
     },
     "execution_count": 42,
     "metadata": {},
     "output_type": "execute_result"
    }
   ],
   "source": [
    "#estimating null values in dataset\n",
    "df1.isna().mean()"
   ]
  },
  {
   "cell_type": "code",
   "execution_count": 43,
   "metadata": {},
   "outputs": [
    {
     "name": "stdout",
     "output_type": "stream",
     "text": [
      "['posting_id', 'area_business', 'isOpen']\n"
     ]
    }
   ],
   "source": [
    "#finding columns which has all the values same or all the values as nan\n",
    "unique_cols =  [x for x in df1.columns if df1[x].nunique()<=1] \n",
    "print(unique_cols)"
   ]
  },
  {
   "cell_type": "code",
   "execution_count": 44,
   "metadata": {},
   "outputs": [],
   "source": [
    "#dropping the columns found in previous block\n",
    "df1.drop(unique_cols,axis=1,inplace=True)"
   ]
  },
  {
   "cell_type": "code",
   "execution_count": 45,
   "metadata": {},
   "outputs": [],
   "source": [
    "#Dropping anomalies\n",
    "drop_index = df1.index[(df1['posting_date'])<df1['document_create_date']]\n",
    "df1.drop(drop_index,inplace=True)"
   ]
  },
  {
   "cell_type": "code",
   "execution_count": 46,
   "metadata": {},
   "outputs": [],
   "source": [
    "drop_index2=df1.index[(df1['posting_date'])>df1['baseline_create_date']]\n",
    "df1.drop(drop_index2,inplace=True)"
   ]
  },
  {
   "cell_type": "code",
   "execution_count": 47,
   "metadata": {},
   "outputs": [],
   "source": [
    "drop_index3=df1.index[(df1['due_in_date'])<df1['baseline_create_date']]\n",
    "df1.drop(drop_index3,inplace=True)"
   ]
  },
  {
   "cell_type": "code",
   "execution_count": 48,
   "metadata": {},
   "outputs": [],
   "source": [
    "#reseting index, and replacing nan values in invoice_id with doc_id, beacuse both cols has same values.\n",
    "df1.reset_index(inplace = True, drop = True) \n",
    "df1[\"invoice_id\"].fillna(df1.doc_id, inplace = True) "
   ]
  },
  {
   "cell_type": "code",
   "execution_count": 49,
   "metadata": {},
   "outputs": [],
   "source": [
    "#sorting data set on basis of document create date, as the data is time dependent data\n",
    "df1.sort_values(by=\"document_create_date.1\", inplace=True)"
   ]
  },
  {
   "cell_type": "code",
   "execution_count": 50,
   "metadata": {},
   "outputs": [
    {
     "data": {
      "text/plain": [
       "(39708, 17)"
      ]
     },
     "execution_count": 50,
     "metadata": {},
     "output_type": "execute_result"
    }
   ],
   "source": [
    "df1.shape"
   ]
  },
  {
   "cell_type": "code",
   "execution_count": 51,
   "metadata": {},
   "outputs": [
    {
     "data": {
      "text/plain": [
       "array([1, 0, 5, 2, 3, 4])"
      ]
     },
     "execution_count": 51,
     "metadata": {},
     "output_type": "execute_result"
    }
   ],
   "source": [
    "#Label encoding business code column as it has mixed variables and it might be used in model\n",
    "from sklearn import preprocessing \n",
    "label_encoder = preprocessing.LabelEncoder() \n",
    "df1['business_code']= label_encoder.fit_transform(df1['business_code']) \n",
    "  \n",
    "df1['business_code'].unique() "
   ]
  },
  {
   "cell_type": "code",
   "execution_count": 52,
   "metadata": {},
   "outputs": [
    {
     "data": {
      "text/plain": [
       "array([20, 35, 26, 64,  6, 57, 56, 46, 13, 22, 66, 33, 29, 27, 60, 59,  7,\n",
       "       53, 19, 10, 15, 31, 14, 16, 52, 21, 23, 54, 62, 48,  5, 25, 34, 58,\n",
       "       17,  8, 38, 11, 12, 50, 18,  3, 32, 39,  9, 55, 40, 30, 37, 47, 61,\n",
       "       63, 24, 41,  1, 42, 65, 51,  4, 36, 43,  0, 44, 49,  2, 45, 28])"
      ]
     },
     "execution_count": 52,
     "metadata": {},
     "output_type": "execute_result"
    }
   ],
   "source": [
    "#Label encoding customer payment terms column as it has mixed variables and it might be used in model\n",
    "from sklearn import preprocessing \n",
    "label_encoder = preprocessing.LabelEncoder() \n",
    "df1['cust_payment_terms']= label_encoder.fit_transform(df1['cust_payment_terms']) \n",
    "  \n",
    "df1['cust_payment_terms'].unique()"
   ]
  },
  {
   "cell_type": "code",
   "execution_count": 53,
   "metadata": {},
   "outputs": [],
   "source": [
    "df1['baseline_weekday'] = df1['baseline_create_date'].dt.dayofweek"
   ]
  },
  {
   "cell_type": "code",
   "execution_count": 54,
   "metadata": {},
   "outputs": [],
   "source": [
    "df1['due_in_month'] = df1['due_in_date'].dt.month"
   ]
  },
  {
   "cell_type": "code",
   "execution_count": 55,
   "metadata": {},
   "outputs": [],
   "source": [
    "df1['due_in_weekday'] = df1['due_in_date'].dt.dayofweek"
   ]
  },
  {
   "cell_type": "code",
   "execution_count": 56,
   "metadata": {},
   "outputs": [
    {
     "name": "stdout",
     "output_type": "stream",
     "text": [
      "(25412, 19) (25412,)\n",
      "(6354, 19) (6354,)\n",
      "(7942, 19) (7942,)\n"
     ]
    }
   ],
   "source": [
    "#splitting\n",
    "x_train_val,x_test,y_train_val,y_test = train_test_split(df1.drop('delay',axis=1),df1['delay'],test_size=0.2,shuffle=False,random_state=42)\n",
    "x_train,x_val,y_train,y_val = train_test_split(x_train_val,y_train_val,test_size=0.2,shuffle=False,random_state=42)\n",
    "\n",
    "print(x_train.shape,y_train.shape)\n",
    "print(x_val.shape,y_val.shape)\n",
    "print(x_test.shape,y_test.shape)"
   ]
  },
  {
   "cell_type": "code",
   "execution_count": 57,
   "metadata": {},
   "outputs": [],
   "source": [
    "x_train['delay'] = y_train # adding it again for of target encoding\n",
    "#creating a feature from customer number and delay"
   ]
  },
  {
   "cell_type": "code",
   "execution_count": 58,
   "metadata": {},
   "outputs": [],
   "source": [
    "#creating a feature from customer number and total open amount\n",
    "mapper2 = x_train.groupby(x_train.cust_number)['total_open_amount'].mean().to_dict() \n",
    "x_train['cust_number_avg_amount'] = x_train['cust_number'].map(mapper2).apply(np.ceil)\n",
    "x_val['cust_number_avg_amount'] = x_val['cust_number'].map(mapper2).apply(np.ceil)\n",
    "x_test['cust_number_avg_amount'] = x_test['cust_number'].map(mapper2).apply(np.ceil)"
   ]
  },
  {
   "cell_type": "code",
   "execution_count": 59,
   "metadata": {},
   "outputs": [],
   "source": [
    "#creating a feature from customer name and delay\n",
    "mapper4 = x_train.groupby(x_train.name_customer)['delay'].mean().to_dict() \n",
    "x_train['name_customer_avg_delay'] = x_train['name_customer'].map(mapper4).apply(np.ceil)\n",
    "x_val['name_customer_avg_delay'] = x_val['name_customer'].map(mapper4).apply(np.ceil)\n",
    "x_test['name_customer_avg_delay'] = x_test['name_customer'].map(mapper4).apply(np.ceil)"
   ]
  },
  {
   "cell_type": "code",
   "execution_count": 60,
   "metadata": {},
   "outputs": [],
   "source": [
    "#creating a feature from customer payment terms and delay\n",
    "mapper5 = x_train.groupby('cust_payment_terms')['delay'].mean().to_dict() \n",
    "x_train['terms_avg_delay'] = x_train['cust_payment_terms'].map(mapper5).apply(np.ceil)\n",
    "x_val['terms_avg_delay'] = x_val['cust_payment_terms'].map(mapper5).apply(np.ceil)\n",
    "x_test['terms_avg_delay'] = x_test['cust_payment_terms'].map(mapper5).apply(np.ceil)"
   ]
  },
  {
   "cell_type": "code",
   "execution_count": 61,
   "metadata": {},
   "outputs": [
    {
     "data": {
      "text/html": [
       "<div>\n",
       "<style scoped>\n",
       "    .dataframe tbody tr th:only-of-type {\n",
       "        vertical-align: middle;\n",
       "    }\n",
       "\n",
       "    .dataframe tbody tr th {\n",
       "        vertical-align: top;\n",
       "    }\n",
       "\n",
       "    .dataframe thead th {\n",
       "        text-align: right;\n",
       "    }\n",
       "</style>\n",
       "<table border=\"1\" class=\"dataframe\">\n",
       "  <thead>\n",
       "    <tr style=\"text-align: right;\">\n",
       "      <th></th>\n",
       "      <th>business_code</th>\n",
       "      <th>cust_number</th>\n",
       "      <th>name_customer</th>\n",
       "      <th>clear_date</th>\n",
       "      <th>buisness_year</th>\n",
       "      <th>doc_id</th>\n",
       "      <th>posting_date</th>\n",
       "      <th>document_create_date</th>\n",
       "      <th>document_create_date.1</th>\n",
       "      <th>due_in_date</th>\n",
       "      <th>...</th>\n",
       "      <th>baseline_create_date</th>\n",
       "      <th>cust_payment_terms</th>\n",
       "      <th>invoice_id</th>\n",
       "      <th>baseline_weekday</th>\n",
       "      <th>due_in_month</th>\n",
       "      <th>due_in_weekday</th>\n",
       "      <th>delay</th>\n",
       "      <th>cust_number_avg_amount</th>\n",
       "      <th>name_customer_avg_delay</th>\n",
       "      <th>terms_avg_delay</th>\n",
       "    </tr>\n",
       "  </thead>\n",
       "  <tbody>\n",
       "    <tr>\n",
       "      <th>27986</th>\n",
       "      <td>1</td>\n",
       "      <td>0200706844</td>\n",
       "      <td>WINC llc</td>\n",
       "      <td>2019-09-30</td>\n",
       "      <td>2019.0</td>\n",
       "      <td>1.929866e+09</td>\n",
       "      <td>2019-09-13</td>\n",
       "      <td>2019-09-11</td>\n",
       "      <td>2019-09-13</td>\n",
       "      <td>2019-09-28</td>\n",
       "      <td>...</td>\n",
       "      <td>2019-09-13</td>\n",
       "      <td>20</td>\n",
       "      <td>1.929866e+09</td>\n",
       "      <td>4</td>\n",
       "      <td>9</td>\n",
       "      <td>5</td>\n",
       "      <td>2</td>\n",
       "      <td>25269.0</td>\n",
       "      <td>2.0</td>\n",
       "      <td>2.0</td>\n",
       "    </tr>\n",
       "    <tr>\n",
       "      <th>26952</th>\n",
       "      <td>1</td>\n",
       "      <td>0200769623</td>\n",
       "      <td>WAL-MAR foundation</td>\n",
       "      <td>2019-09-30</td>\n",
       "      <td>2019.0</td>\n",
       "      <td>1.929871e+09</td>\n",
       "      <td>2019-09-13</td>\n",
       "      <td>2019-09-12</td>\n",
       "      <td>2019-09-13</td>\n",
       "      <td>2019-09-28</td>\n",
       "      <td>...</td>\n",
       "      <td>2019-09-13</td>\n",
       "      <td>35</td>\n",
       "      <td>1.929871e+09</td>\n",
       "      <td>4</td>\n",
       "      <td>9</td>\n",
       "      <td>5</td>\n",
       "      <td>2</td>\n",
       "      <td>21588.0</td>\n",
       "      <td>-1.0</td>\n",
       "      <td>-1.0</td>\n",
       "    </tr>\n",
       "    <tr>\n",
       "      <th>34091</th>\n",
       "      <td>1</td>\n",
       "      <td>0200769623</td>\n",
       "      <td>WAL-MAR corp</td>\n",
       "      <td>2019-09-24</td>\n",
       "      <td>2019.0</td>\n",
       "      <td>1.929872e+09</td>\n",
       "      <td>2019-09-13</td>\n",
       "      <td>2019-09-13</td>\n",
       "      <td>2019-09-13</td>\n",
       "      <td>2019-09-28</td>\n",
       "      <td>...</td>\n",
       "      <td>2019-09-13</td>\n",
       "      <td>35</td>\n",
       "      <td>1.929872e+09</td>\n",
       "      <td>4</td>\n",
       "      <td>9</td>\n",
       "      <td>5</td>\n",
       "      <td>-4</td>\n",
       "      <td>21588.0</td>\n",
       "      <td>-1.0</td>\n",
       "      <td>-1.0</td>\n",
       "    </tr>\n",
       "    <tr>\n",
       "      <th>2496</th>\n",
       "      <td>1</td>\n",
       "      <td>0200759878</td>\n",
       "      <td>SA co</td>\n",
       "      <td>2019-09-30</td>\n",
       "      <td>2019.0</td>\n",
       "      <td>1.929867e+09</td>\n",
       "      <td>2019-09-13</td>\n",
       "      <td>2019-09-12</td>\n",
       "      <td>2019-09-13</td>\n",
       "      <td>2019-09-28</td>\n",
       "      <td>...</td>\n",
       "      <td>2019-09-13</td>\n",
       "      <td>35</td>\n",
       "      <td>1.929867e+09</td>\n",
       "      <td>4</td>\n",
       "      <td>9</td>\n",
       "      <td>5</td>\n",
       "      <td>2</td>\n",
       "      <td>36752.0</td>\n",
       "      <td>2.0</td>\n",
       "      <td>-1.0</td>\n",
       "    </tr>\n",
       "    <tr>\n",
       "      <th>15570</th>\n",
       "      <td>1</td>\n",
       "      <td>CCU013</td>\n",
       "      <td>KRAFT F llc</td>\n",
       "      <td>2019-11-01</td>\n",
       "      <td>2019.0</td>\n",
       "      <td>1.929849e+09</td>\n",
       "      <td>2019-09-13</td>\n",
       "      <td>2019-09-09</td>\n",
       "      <td>2019-09-13</td>\n",
       "      <td>2019-09-13</td>\n",
       "      <td>...</td>\n",
       "      <td>2019-09-13</td>\n",
       "      <td>66</td>\n",
       "      <td>1.929849e+09</td>\n",
       "      <td>4</td>\n",
       "      <td>9</td>\n",
       "      <td>4</td>\n",
       "      <td>49</td>\n",
       "      <td>12840.0</td>\n",
       "      <td>44.0</td>\n",
       "      <td>45.0</td>\n",
       "    </tr>\n",
       "  </tbody>\n",
       "</table>\n",
       "<p>5 rows × 23 columns</p>\n",
       "</div>"
      ],
      "text/plain": [
       "       business_code cust_number       name_customer clear_date  \\\n",
       "27986              1  0200706844            WINC llc 2019-09-30   \n",
       "26952              1  0200769623  WAL-MAR foundation 2019-09-30   \n",
       "34091              1  0200769623        WAL-MAR corp 2019-09-24   \n",
       "2496               1  0200759878               SA co 2019-09-30   \n",
       "15570              1      CCU013         KRAFT F llc 2019-11-01   \n",
       "\n",
       "       buisness_year        doc_id posting_date document_create_date  \\\n",
       "27986         2019.0  1.929866e+09   2019-09-13           2019-09-11   \n",
       "26952         2019.0  1.929871e+09   2019-09-13           2019-09-12   \n",
       "34091         2019.0  1.929872e+09   2019-09-13           2019-09-13   \n",
       "2496          2019.0  1.929867e+09   2019-09-13           2019-09-12   \n",
       "15570         2019.0  1.929849e+09   2019-09-13           2019-09-09   \n",
       "\n",
       "      document_create_date.1 due_in_date  ... baseline_create_date  \\\n",
       "27986             2019-09-13  2019-09-28  ...           2019-09-13   \n",
       "26952             2019-09-13  2019-09-28  ...           2019-09-13   \n",
       "34091             2019-09-13  2019-09-28  ...           2019-09-13   \n",
       "2496              2019-09-13  2019-09-28  ...           2019-09-13   \n",
       "15570             2019-09-13  2019-09-13  ...           2019-09-13   \n",
       "\n",
       "      cust_payment_terms    invoice_id baseline_weekday  due_in_month  \\\n",
       "27986                 20  1.929866e+09                4             9   \n",
       "26952                 35  1.929871e+09                4             9   \n",
       "34091                 35  1.929872e+09                4             9   \n",
       "2496                  35  1.929867e+09                4             9   \n",
       "15570                 66  1.929849e+09                4             9   \n",
       "\n",
       "       due_in_weekday  delay  cust_number_avg_amount  name_customer_avg_delay  \\\n",
       "27986               5      2                 25269.0                      2.0   \n",
       "26952               5      2                 21588.0                     -1.0   \n",
       "34091               5     -4                 21588.0                     -1.0   \n",
       "2496                5      2                 36752.0                      2.0   \n",
       "15570               4     49                 12840.0                     44.0   \n",
       "\n",
       "       terms_avg_delay  \n",
       "27986              2.0  \n",
       "26952             -1.0  \n",
       "34091             -1.0  \n",
       "2496              -1.0  \n",
       "15570             45.0  \n",
       "\n",
       "[5 rows x 23 columns]"
      ]
     },
     "execution_count": 61,
     "metadata": {},
     "output_type": "execute_result"
    }
   ],
   "source": [
    "x_train.tail()"
   ]
  },
  {
   "cell_type": "code",
   "execution_count": 62,
   "metadata": {},
   "outputs": [],
   "source": [
    "#copying all values to train\n",
    "train = x_train.copy()\n",
    "#dropping back the target column from x_train\n",
    "x_train=x_train.drop('delay',axis=1)"
   ]
  },
  {
   "cell_type": "code",
   "execution_count": 63,
   "metadata": {},
   "outputs": [],
   "source": [
    "#dropping the features which are not supported by model\n",
    "x_train=x_train.drop(['buisness_year','cust_number','name_customer','clear_date','doc_id','posting_date','doc_id','document_create_date','document_create_date.1','due_in_date','invoice_currency','document type','baseline_create_date','invoice_id'],axis=1)"
   ]
  },
  {
   "cell_type": "code",
   "execution_count": 64,
   "metadata": {},
   "outputs": [],
   "source": [
    "#dropping the features which are not supported by model\n",
    "x_val=x_val.drop(['buisness_year','cust_number','name_customer','clear_date','doc_id','posting_date','doc_id','document_create_date','document_create_date.1','due_in_date','invoice_currency','document type','baseline_create_date','invoice_id'],axis=1)"
   ]
  },
  {
   "cell_type": "code",
   "execution_count": 65,
   "metadata": {},
   "outputs": [],
   "source": [
    "#dropping the features which are not supported by model\n",
    "x_test=x_test.drop(['buisness_year','cust_number','name_customer','clear_date','doc_id','posting_date','doc_id','document_create_date','document_create_date.1','due_in_date','invoice_currency','document type','baseline_create_date','invoice_id'],axis=1)"
   ]
  },
  {
   "cell_type": "code",
   "execution_count": 66,
   "metadata": {},
   "outputs": [
    {
     "data": {
      "text/plain": [
       "9"
      ]
     },
     "execution_count": 66,
     "metadata": {},
     "output_type": "execute_result"
    }
   ],
   "source": [
    "#Passing a value of zero for the parameter will filter all the features with zero variance\n",
    "constant_filter = VarianceThreshold(threshold=0)\n",
    "#we need to simply apply this filter to our training set as shown in the following example\n",
    "constant_filter.fit(x_train)\n",
    "#the number of non-constant features.\n",
    "len(x_train.columns[constant_filter.get_support()])"
   ]
  },
  {
   "cell_type": "code",
   "execution_count": 68,
   "metadata": {},
   "outputs": [
    {
     "name": "stdout",
     "output_type": "stream",
     "text": [
      "0\n"
     ]
    }
   ],
   "source": [
    "constant_columns = [column for column in x_train.columns\n",
    "                    if column not in x_train.columns[constant_filter.get_support()]]\n",
    "\n",
    "print(len(constant_columns))"
   ]
  },
  {
   "cell_type": "code",
   "execution_count": 69,
   "metadata": {},
   "outputs": [],
   "source": [
    "# transpose the feature matrice\n",
    "#x_train_T = x_train.T\n",
    "# print the number of duplicated features\n",
    "#print(x_train_T.duplicated().sum())\n",
    "# select the duplicated features columns names\n",
    "#duplicated_columns = x_train_T[x_train_T.duplicated()].index.values"
   ]
  },
  {
   "cell_type": "code",
   "execution_count": 71,
   "metadata": {},
   "outputs": [],
   "source": [
    "#There is no duplicate column present \n",
    "#duplicated_columns"
   ]
  },
  {
   "cell_type": "code",
   "execution_count": 72,
   "metadata": {},
   "outputs": [
    {
     "data": {
      "text/plain": [
       "<matplotlib.axes._subplots.AxesSubplot at 0x213a1cbc508>"
      ]
     },
     "execution_count": 72,
     "metadata": {},
     "output_type": "execute_result"
    },
    {
     "data": {
      "image/png": "[encoded data removed]",
      "text/plain": [
       "<Figure size 1440x720 with 2 Axes>"
      ]
     },
     "metadata": {
      "needs_background": "light"
     },
     "output_type": "display_data"
    }
   ],
   "source": [
    "#visualisation\n",
    "corr=x_train.corr()\n",
    "plt.figure(figsize=(20,10))\n",
    "sns.heatmap(corr,annot=True)"
   ]
  },
  {
   "cell_type": "code",
   "execution_count": 73,
   "metadata": {},
   "outputs": [
    {
     "data": {
      "text/plain": [
       "business_code              0.006829\n",
       "total_open_amount         -0.022585\n",
       "cust_payment_terms         0.077978\n",
       "baseline_weekday           0.005442\n",
       "due_in_month              -0.040776\n",
       "due_in_weekday             0.011382\n",
       "cust_number_avg_amount    -0.029134\n",
       "name_customer_avg_delay    0.691574\n",
       "terms_avg_delay            0.553142\n",
       "delay                      1.000000\n",
       "Name: delay, dtype: float64"
      ]
     },
     "execution_count": 73,
     "metadata": {},
     "output_type": "execute_result"
    }
   ],
   "source": [
    "#copying back the delay to check corr\n",
    "x_train['delay']= y_train\n",
    "x_train.corr().loc['delay',:]\n"
   ]
  },
  {
   "cell_type": "code",
   "execution_count": 74,
   "metadata": {},
   "outputs": [],
   "source": [
    "x_train.drop('delay',axis=1,inplace=True) #dropping it back"
   ]
  },
  {
   "cell_type": "code",
   "execution_count": 75,
   "metadata": {},
   "outputs": [],
   "source": [
    "def handling_correlation(x_train,threshold=0.8):\n",
    "    # creating set to hold the correlated features\n",
    "    corr_features = set()\n",
    "    # create the correlation matrix (default to pearson)\n",
    "    corr_matrix = x_train.corr()\n",
    "    #code for selecting all correleated features\n",
    "    for i in range(len(corr_matrix .columns)):\n",
    "        for j in range(i):\n",
    "            if abs(corr_matrix.iloc[i, j]) >threshold:\n",
    "                colname = corr_matrix.columns[i]\n",
    "                corr_features.add(colname)\n",
    "    return list(corr_features)"
   ]
  },
  {
   "cell_type": "code",
   "execution_count": 76,
   "metadata": {},
   "outputs": [
    {
     "data": {
      "text/plain": [
       "[]"
      ]
     },
     "execution_count": 76,
     "metadata": {},
     "output_type": "execute_result"
    }
   ],
   "source": [
    "#in the time of checking co-relation we have to check with target also that's why I am passing out output_label also\n",
    "handling_correlation(x_train,0.8)"
   ]
  },
  {
   "cell_type": "code",
   "execution_count": 77,
   "metadata": {},
   "outputs": [],
   "source": [
    "def tree_based_feature_importance(x_train,y_train):\n",
    "    from sklearn.ensemble import RandomForestRegressor\n",
    "    # create the random forest model\n",
    "    model = RandomForestRegressor(n_estimators=120)\n",
    "\n",
    "    # fit the model to start training.\n",
    "    model.fit(x_train, y_train)\n",
    "\n",
    "    # get the importance of the resulting features.\n",
    "    importances = model.feature_importances_\n",
    "\n",
    "    # create a data frame for visualization.\n",
    "    final_df = pd.DataFrame({\"Features\": x_train.columns, \"Importances\":importances})\n",
    "    final_df.set_index('Importances')\n",
    "\n",
    "    # sort in descending order \n",
    "    final_df = final_df.sort_values('Importances',ascending=False)\n",
    "    \n",
    "    #visualising feature importance\n",
    "    pd.Series(model.feature_importances_, index=x_train.columns).nlargest(6).plot(kind='barh')  \n",
    "    return final_df"
   ]
  },
  {
   "cell_type": "code",
   "execution_count": 78,
   "metadata": {},
   "outputs": [
    {
     "data": {
      "image/png": "[encoded data removed]",
      "text/plain": [
       "<Figure size 432x288 with 1 Axes>"
      ]
     },
     "metadata": {
      "needs_background": "light"
     },
     "output_type": "display_data"
    }
   ],
   "source": [
    "feature_importance=tree_based_feature_importance(x_train,y_train)"
   ]
  },
  {
   "cell_type": "code",
   "execution_count": 79,
   "metadata": {},
   "outputs": [
    {
     "data": {
      "text/html": [
       "<div>\n",
       "<style scoped>\n",
       "    .dataframe tbody tr th:only-of-type {\n",
       "        vertical-align: middle;\n",
       "    }\n",
       "\n",
       "    .dataframe tbody tr th {\n",
       "        vertical-align: top;\n",
       "    }\n",
       "\n",
       "    .dataframe thead th {\n",
       "        text-align: right;\n",
       "    }\n",
       "</style>\n",
       "<table border=\"1\" class=\"dataframe\">\n",
       "  <thead>\n",
       "    <tr style=\"text-align: right;\">\n",
       "      <th></th>\n",
       "      <th>Features</th>\n",
       "      <th>Importances</th>\n",
       "    </tr>\n",
       "  </thead>\n",
       "  <tbody>\n",
       "    <tr>\n",
       "      <th>7</th>\n",
       "      <td>name_customer_avg_delay</td>\n",
       "      <td>0.514956</td>\n",
       "    </tr>\n",
       "    <tr>\n",
       "      <th>1</th>\n",
       "      <td>total_open_amount</td>\n",
       "      <td>0.212031</td>\n",
       "    </tr>\n",
       "    <tr>\n",
       "      <th>8</th>\n",
       "      <td>terms_avg_delay</td>\n",
       "      <td>0.061256</td>\n",
       "    </tr>\n",
       "    <tr>\n",
       "      <th>4</th>\n",
       "      <td>due_in_month</td>\n",
       "      <td>0.055762</td>\n",
       "    </tr>\n",
       "    <tr>\n",
       "      <th>6</th>\n",
       "      <td>cust_number_avg_amount</td>\n",
       "      <td>0.055132</td>\n",
       "    </tr>\n",
       "    <tr>\n",
       "      <th>2</th>\n",
       "      <td>cust_payment_terms</td>\n",
       "      <td>0.038245</td>\n",
       "    </tr>\n",
       "    <tr>\n",
       "      <th>3</th>\n",
       "      <td>baseline_weekday</td>\n",
       "      <td>0.032347</td>\n",
       "    </tr>\n",
       "    <tr>\n",
       "      <th>5</th>\n",
       "      <td>due_in_weekday</td>\n",
       "      <td>0.026695</td>\n",
       "    </tr>\n",
       "    <tr>\n",
       "      <th>0</th>\n",
       "      <td>business_code</td>\n",
       "      <td>0.003575</td>\n",
       "    </tr>\n",
       "  </tbody>\n",
       "</table>\n",
       "</div>"
      ],
      "text/plain": [
       "                  Features  Importances\n",
       "7  name_customer_avg_delay     0.514956\n",
       "1        total_open_amount     0.212031\n",
       "8          terms_avg_delay     0.061256\n",
       "4             due_in_month     0.055762\n",
       "6   cust_number_avg_amount     0.055132\n",
       "2       cust_payment_terms     0.038245\n",
       "3         baseline_weekday     0.032347\n",
       "5           due_in_weekday     0.026695\n",
       "0            business_code     0.003575"
      ]
     },
     "metadata": {},
     "output_type": "display_data"
    }
   ],
   "source": [
    "display(feature_importance)"
   ]
  },
  {
   "cell_type": "code",
   "execution_count": 80,
   "metadata": {},
   "outputs": [
    {
     "data": {
      "text/plain": [
       "business_code              0.0\n",
       "total_open_amount          0.0\n",
       "cust_payment_terms         0.0\n",
       "baseline_weekday           0.0\n",
       "due_in_month               0.0\n",
       "due_in_weekday             0.0\n",
       "cust_number_avg_amount     0.0\n",
       "name_customer_avg_delay    0.0\n",
       "terms_avg_delay            0.0\n",
       "dtype: float64"
      ]
     },
     "execution_count": 80,
     "metadata": {},
     "output_type": "execute_result"
    }
   ],
   "source": [
    "#null value impuatation in validation set\n",
    "x_val['terms_avg_delay'].fillna(x_val['terms_avg_delay'].mean(),inplace=True)\n",
    "x_val['cust_number_avg_amount'].fillna(x_val['cust_number_avg_amount'].mean(),inplace=True)\n",
    "x_val['name_customer_avg_delay'].fillna(x_val['name_customer_avg_delay'].mean(),inplace=True)\n",
    "x_val.isna().mean()\n"
   ]
  },
  {
   "cell_type": "code",
   "execution_count": 81,
   "metadata": {},
   "outputs": [
    {
     "data": {
      "text/plain": [
       "business_code              0.0\n",
       "total_open_amount          0.0\n",
       "cust_payment_terms         0.0\n",
       "baseline_weekday           0.0\n",
       "due_in_month               0.0\n",
       "due_in_weekday             0.0\n",
       "cust_number_avg_amount     0.0\n",
       "name_customer_avg_delay    0.0\n",
       "terms_avg_delay            0.0\n",
       "dtype: float64"
      ]
     },
     "execution_count": 81,
     "metadata": {},
     "output_type": "execute_result"
    }
   ],
   "source": [
    "#null value impuatation in test set\n",
    "x_test['terms_avg_delay'].fillna(x_test['terms_avg_delay'].mean(),inplace=True)\n",
    "x_test['cust_number_avg_amount'].fillna(x_test['cust_number_avg_amount'].mean(),inplace=True)\n",
    "x_test['name_customer_avg_delay'].fillna(x_val['name_customer_avg_delay'].mean(),inplace=True)\n",
    "x_test.isna().mean()"
   ]
  },
  {
   "cell_type": "code",
   "execution_count": 82,
   "metadata": {},
   "outputs": [
    {
     "data": {
      "text/html": [
       "<div>\n",
       "<style scoped>\n",
       "    .dataframe tbody tr th:only-of-type {\n",
       "        vertical-align: middle;\n",
       "    }\n",
       "\n",
       "    .dataframe tbody tr th {\n",
       "        vertical-align: top;\n",
       "    }\n",
       "\n",
       "    .dataframe thead th {\n",
       "        text-align: right;\n",
       "    }\n",
       "</style>\n",
       "<table border=\"1\" class=\"dataframe\">\n",
       "  <thead>\n",
       "    <tr style=\"text-align: right;\">\n",
       "      <th></th>\n",
       "      <th>business_code</th>\n",
       "      <th>total_open_amount</th>\n",
       "      <th>cust_payment_terms</th>\n",
       "      <th>baseline_weekday</th>\n",
       "      <th>due_in_month</th>\n",
       "      <th>due_in_weekday</th>\n",
       "      <th>cust_number_avg_amount</th>\n",
       "      <th>name_customer_avg_delay</th>\n",
       "      <th>terms_avg_delay</th>\n",
       "    </tr>\n",
       "  </thead>\n",
       "  <tbody>\n",
       "    <tr>\n",
       "      <th>30476</th>\n",
       "      <td>1</td>\n",
       "      <td>785.64</td>\n",
       "      <td>20</td>\n",
       "      <td>4</td>\n",
       "      <td>9</td>\n",
       "      <td>5</td>\n",
       "      <td>5828.000000</td>\n",
       "      <td>1.000000</td>\n",
       "      <td>2.0</td>\n",
       "    </tr>\n",
       "    <tr>\n",
       "      <th>14375</th>\n",
       "      <td>1</td>\n",
       "      <td>76211.84</td>\n",
       "      <td>26</td>\n",
       "      <td>4</td>\n",
       "      <td>9</td>\n",
       "      <td>5</td>\n",
       "      <td>23062.000000</td>\n",
       "      <td>-2.000000</td>\n",
       "      <td>1.0</td>\n",
       "    </tr>\n",
       "    <tr>\n",
       "      <th>8286</th>\n",
       "      <td>1</td>\n",
       "      <td>15678.09</td>\n",
       "      <td>20</td>\n",
       "      <td>4</td>\n",
       "      <td>9</td>\n",
       "      <td>5</td>\n",
       "      <td>5828.000000</td>\n",
       "      <td>1.000000</td>\n",
       "      <td>2.0</td>\n",
       "    </tr>\n",
       "    <tr>\n",
       "      <th>25316</th>\n",
       "      <td>1</td>\n",
       "      <td>16128.77</td>\n",
       "      <td>20</td>\n",
       "      <td>4</td>\n",
       "      <td>9</td>\n",
       "      <td>5</td>\n",
       "      <td>48180.000000</td>\n",
       "      <td>1.000000</td>\n",
       "      <td>2.0</td>\n",
       "    </tr>\n",
       "    <tr>\n",
       "      <th>13455</th>\n",
       "      <td>2</td>\n",
       "      <td>18628.36</td>\n",
       "      <td>23</td>\n",
       "      <td>4</td>\n",
       "      <td>9</td>\n",
       "      <td>4</td>\n",
       "      <td>32583.769562</td>\n",
       "      <td>1.548758</td>\n",
       "      <td>10.0</td>\n",
       "    </tr>\n",
       "  </tbody>\n",
       "</table>\n",
       "</div>"
      ],
      "text/plain": [
       "       business_code  total_open_amount  cust_payment_terms  baseline_weekday  \\\n",
       "30476              1             785.64                  20                 4   \n",
       "14375              1           76211.84                  26                 4   \n",
       "8286               1           15678.09                  20                 4   \n",
       "25316              1           16128.77                  20                 4   \n",
       "13455              2           18628.36                  23                 4   \n",
       "\n",
       "       due_in_month  due_in_weekday  cust_number_avg_amount  \\\n",
       "30476             9               5             5828.000000   \n",
       "14375             9               5            23062.000000   \n",
       "8286              9               5             5828.000000   \n",
       "25316             9               5            48180.000000   \n",
       "13455             9               4            32583.769562   \n",
       "\n",
       "       name_customer_avg_delay  terms_avg_delay  \n",
       "30476                 1.000000              2.0  \n",
       "14375                -2.000000              1.0  \n",
       "8286                  1.000000              2.0  \n",
       "25316                 1.000000              2.0  \n",
       "13455                 1.548758             10.0  "
      ]
     },
     "execution_count": 82,
     "metadata": {},
     "output_type": "execute_result"
    }
   ],
   "source": [
    "x_val.head()"
   ]
  },
  {
   "cell_type": "code",
   "execution_count": 83,
   "metadata": {},
   "outputs": [],
   "source": [
    "# Modeling & Accuracy Metrics\n",
    "from sklearn.metrics import accuracy_score\n",
    "from sklearn.linear_model import LinearRegression\n",
    "from sklearn.svm import SVR\n",
    "from sklearn.tree import DecisionTreeRegressor\n",
    "from sklearn.ensemble import RandomForestRegressor\n",
    "#import xgboost as xgb\n",
    "from sklearn.metrics import mean_squared_error\n",
    "from sklearn.metrics import r2_score\n"
   ]
  },
  {
   "cell_type": "code",
   "execution_count": 84,
   "metadata": {},
   "outputs": [
    {
     "data": {
      "text/plain": [
       "business_code              0.0\n",
       "total_open_amount          0.0\n",
       "cust_payment_terms         0.0\n",
       "baseline_weekday           0.0\n",
       "due_in_month               0.0\n",
       "due_in_weekday             0.0\n",
       "cust_number_avg_amount     0.0\n",
       "name_customer_avg_delay    0.0\n",
       "terms_avg_delay            0.0\n",
       "dtype: float64"
      ]
     },
     "execution_count": 84,
     "metadata": {},
     "output_type": "execute_result"
    }
   ],
   "source": [
    "x_val.isna().mean()"
   ]
  },
  {
   "cell_type": "code",
   "execution_count": 85,
   "metadata": {},
   "outputs": [
    {
     "data": {
      "text/plain": [
       "business_code              0.0\n",
       "total_open_amount          0.0\n",
       "cust_payment_terms         0.0\n",
       "baseline_weekday           0.0\n",
       "due_in_month               0.0\n",
       "due_in_weekday             0.0\n",
       "cust_number_avg_amount     0.0\n",
       "name_customer_avg_delay    0.0\n",
       "terms_avg_delay            0.0\n",
       "dtype: float64"
      ]
     },
     "execution_count": 85,
     "metadata": {},
     "output_type": "execute_result"
    }
   ],
   "source": [
    "x_test.isna().mean()"
   ]
  },
  {
   "cell_type": "code",
   "execution_count": 86,
   "metadata": {},
   "outputs": [
    {
     "name": "stdout",
     "output_type": "stream",
     "text": [
      "r2 score:  0.2252635315434024\n",
      "rmse :  7.124483584894877\n"
     ]
    }
   ],
   "source": [
    "#Using RandomForestRegressor on validation set\n",
    "reg = RandomForestRegressor().fit(x_train,y_train)\n",
    "predicted = reg.predict(x_val)\n",
    "r2=r2_score(y_val, predicted)\n",
    "mse=mean_squared_error(y_val, predicted)\n",
    "rmse = mse**0.5\n",
    "print(\"r2 score: \",r2)\n",
    "print(\"rmse : \",rmse)"
   ]
  },
  {
   "cell_type": "code",
   "execution_count": 87,
   "metadata": {},
   "outputs": [
    {
     "name": "stdout",
     "output_type": "stream",
     "text": [
      "r2 score:  0.40146919070347664\n",
      "rmse :  6.262094910693169\n"
     ]
    }
   ],
   "source": [
    "# standarisation: we use the StandardScaler from sklearn\n",
    "from sklearn import preprocessing \n",
    "scaler = preprocessing.StandardScaler() # create an object\n",
    "X_train_scaled = scaler.fit_transform(x_train) # fit the scaler to the train set, and then transform it\n",
    "X_val_scaled = scaler.transform(x_val) # transform the val set\n",
    "\n",
    "#Using LinearRegressor on validation set\n",
    "reg = LinearRegression().fit(X_train_scaled,y_train)\n",
    "predicted = reg.predict(X_val_scaled)\n",
    "r2=r2_score(y_val, predicted)\n",
    "mse=mean_squared_error(y_val, predicted)\n",
    "rmse = mse**0.5\n",
    "print(\"r2 score: \",r2)\n",
    "print(\"rmse : \",rmse)"
   ]
  },
  {
   "cell_type": "code",
   "execution_count": 88,
   "metadata": {},
   "outputs": [
    {
     "name": "stdout",
     "output_type": "stream",
     "text": [
      "r2 score:  0.469549356335383\n",
      "rmse :  5.895204577622217\n"
     ]
    }
   ],
   "source": [
    "# standarisation: we use the StandardScaler from sklearn\n",
    "from sklearn import preprocessing \n",
    "scaler = preprocessing.StandardScaler() # create an object\n",
    "X_train_scaled = scaler.fit_transform(x_train) # fit the scaler to the train set, and then transform it\n",
    "X_val_scaled = scaler.transform(x_val) # transform the val set\n",
    "\n",
    "#Using SVR() on validation set\n",
    "reg = SVR().fit(X_train_scaled,y_train)\n",
    "predicted = reg.predict(X_val_scaled)\n",
    "r2=r2_score(y_val, predicted)\n",
    "mse=mean_squared_error(y_val, predicted)\n",
    "rmse = mse**0.5\n",
    "print(\"r2 score: \",r2)\n",
    "print(\"rmse : \",rmse)"
   ]
  },
  {
   "cell_type": "code",
   "execution_count": 89,
   "metadata": {},
   "outputs": [
    {
     "name": "stdout",
     "output_type": "stream",
     "text": [
      "r2 score:  0.39731544438121047\n",
      "rmse :  7.201010322394348\n"
     ]
    }
   ],
   "source": [
    "# standarisation: we use the StandardScaler from sklearn\n",
    "from sklearn import preprocessing \n",
    "scaler = preprocessing.StandardScaler() # create an object\n",
    "X_train_scaled = scaler.fit_transform(x_train) # fit the scaler to the train set, and then transform it\n",
    "X_test_scaled = scaler.transform(x_test) # transform the val set\n",
    "\n",
    "#Using SVR() on TEST set\n",
    "reg = SVR().fit(X_train_scaled,y_train)\n",
    "predicted = reg.predict(X_test_scaled)\n",
    "r2=r2_score(y_test, predicted)\n",
    "mse=mean_squared_error(y_test, predicted)\n",
    "rmse = mse**0.5\n",
    "print(\"r2 score: \",r2)\n",
    "print(\"rmse : \",rmse)"
   ]
  },
  {
   "cell_type": "code",
   "execution_count": 90,
   "metadata": {},
   "outputs": [
    {
     "data": {
      "text/html": [
       "<div>\n",
       "<style scoped>\n",
       "    .dataframe tbody tr th:only-of-type {\n",
       "        vertical-align: middle;\n",
       "    }\n",
       "\n",
       "    .dataframe tbody tr th {\n",
       "        vertical-align: top;\n",
       "    }\n",
       "\n",
       "    .dataframe thead th {\n",
       "        text-align: right;\n",
       "    }\n",
       "</style>\n",
       "<table border=\"1\" class=\"dataframe\">\n",
       "  <thead>\n",
       "    <tr style=\"text-align: right;\">\n",
       "      <th></th>\n",
       "      <th>business_code</th>\n",
       "      <th>cust_number</th>\n",
       "      <th>name_customer</th>\n",
       "      <th>clear_date</th>\n",
       "      <th>buisness_year</th>\n",
       "      <th>doc_id</th>\n",
       "      <th>posting_date</th>\n",
       "      <th>document_create_date</th>\n",
       "      <th>document_create_date.1</th>\n",
       "      <th>due_in_date</th>\n",
       "      <th>invoice_currency</th>\n",
       "      <th>document type</th>\n",
       "      <th>posting_id</th>\n",
       "      <th>area_business</th>\n",
       "      <th>total_open_amount</th>\n",
       "      <th>baseline_create_date</th>\n",
       "      <th>cust_payment_terms</th>\n",
       "      <th>invoice_id</th>\n",
       "      <th>isOpen</th>\n",
       "    </tr>\n",
       "  </thead>\n",
       "  <tbody>\n",
       "    <tr>\n",
       "      <th>45033</th>\n",
       "      <td>U001</td>\n",
       "      <td>200794332</td>\n",
       "      <td>COST</td>\n",
       "      <td>NaT</td>\n",
       "      <td>2020.0</td>\n",
       "      <td>1.930685e+09</td>\n",
       "      <td>2020-03-23</td>\n",
       "      <td>2020-03-21</td>\n",
       "      <td>2020-03-23</td>\n",
       "      <td>2020-04-07</td>\n",
       "      <td>USD</td>\n",
       "      <td>RV</td>\n",
       "      <td>1.0</td>\n",
       "      <td>NaN</td>\n",
       "      <td>14772.55</td>\n",
       "      <td>2020-03-23</td>\n",
       "      <td>NAAX</td>\n",
       "      <td>1.930685e+09</td>\n",
       "      <td>1</td>\n",
       "    </tr>\n",
       "    <tr>\n",
       "      <th>45034</th>\n",
       "      <td>U001</td>\n",
       "      <td>0100043975</td>\n",
       "      <td>JAVA</td>\n",
       "      <td>NaT</td>\n",
       "      <td>2020.0</td>\n",
       "      <td>1.930740e+09</td>\n",
       "      <td>2020-04-03</td>\n",
       "      <td>2020-04-03</td>\n",
       "      <td>2020-04-03</td>\n",
       "      <td>2020-04-18</td>\n",
       "      <td>USD</td>\n",
       "      <td>RV</td>\n",
       "      <td>1.0</td>\n",
       "      <td>NaN</td>\n",
       "      <td>1427.36</td>\n",
       "      <td>2020-04-03</td>\n",
       "      <td>NAA8</td>\n",
       "      <td>1.930740e+09</td>\n",
       "      <td>1</td>\n",
       "    </tr>\n",
       "    <tr>\n",
       "      <th>45035</th>\n",
       "      <td>CA02</td>\n",
       "      <td>0140106408</td>\n",
       "      <td>WAL-M corporation</td>\n",
       "      <td>NaT</td>\n",
       "      <td>2020.0</td>\n",
       "      <td>2.960627e+09</td>\n",
       "      <td>2020-04-08</td>\n",
       "      <td>2020-04-08</td>\n",
       "      <td>2020-04-08</td>\n",
       "      <td>2020-04-19</td>\n",
       "      <td>CAD</td>\n",
       "      <td>RV</td>\n",
       "      <td>1.0</td>\n",
       "      <td>NaN</td>\n",
       "      <td>53237.81</td>\n",
       "      <td>2020-04-09</td>\n",
       "      <td>CA10</td>\n",
       "      <td>2.960627e+09</td>\n",
       "      <td>1</td>\n",
       "    </tr>\n",
       "    <tr>\n",
       "      <th>45036</th>\n",
       "      <td>U001</td>\n",
       "      <td>0200762301</td>\n",
       "      <td>C&amp;S WH trust</td>\n",
       "      <td>NaT</td>\n",
       "      <td>2020.0</td>\n",
       "      <td>1.930705e+09</td>\n",
       "      <td>2020-03-25</td>\n",
       "      <td>2020-03-26</td>\n",
       "      <td>2020-03-25</td>\n",
       "      <td>2020-04-09</td>\n",
       "      <td>USD</td>\n",
       "      <td>RV</td>\n",
       "      <td>1.0</td>\n",
       "      <td>NaN</td>\n",
       "      <td>4604.85</td>\n",
       "      <td>2020-03-25</td>\n",
       "      <td>NAC6</td>\n",
       "      <td>1.930705e+09</td>\n",
       "      <td>1</td>\n",
       "    </tr>\n",
       "    <tr>\n",
       "      <th>45037</th>\n",
       "      <td>U001</td>\n",
       "      <td>0200772670</td>\n",
       "      <td>ASSOCIAT associates</td>\n",
       "      <td>NaT</td>\n",
       "      <td>2020.0</td>\n",
       "      <td>1.930827e+09</td>\n",
       "      <td>2020-04-25</td>\n",
       "      <td>2020-04-25</td>\n",
       "      <td>2020-04-25</td>\n",
       "      <td>2020-05-10</td>\n",
       "      <td>USD</td>\n",
       "      <td>RV</td>\n",
       "      <td>1.0</td>\n",
       "      <td>NaN</td>\n",
       "      <td>4331.48</td>\n",
       "      <td>2020-04-25</td>\n",
       "      <td>NAU5</td>\n",
       "      <td>1.930827e+09</td>\n",
       "      <td>1</td>\n",
       "    </tr>\n",
       "  </tbody>\n",
       "</table>\n",
       "</div>"
      ],
      "text/plain": [
       "      business_code cust_number        name_customer clear_date  \\\n",
       "45033          U001   200794332                COST         NaT   \n",
       "45034          U001  0100043975                JAVA         NaT   \n",
       "45035          CA02  0140106408    WAL-M corporation        NaT   \n",
       "45036          U001  0200762301         C&S WH trust        NaT   \n",
       "45037          U001  0200772670  ASSOCIAT associates        NaT   \n",
       "\n",
       "       buisness_year        doc_id posting_date document_create_date  \\\n",
       "45033         2020.0  1.930685e+09   2020-03-23           2020-03-21   \n",
       "45034         2020.0  1.930740e+09   2020-04-03           2020-04-03   \n",
       "45035         2020.0  2.960627e+09   2020-04-08           2020-04-08   \n",
       "45036         2020.0  1.930705e+09   2020-03-25           2020-03-26   \n",
       "45037         2020.0  1.930827e+09   2020-04-25           2020-04-25   \n",
       "\n",
       "      document_create_date.1 due_in_date invoice_currency document type  \\\n",
       "45033             2020-03-23  2020-04-07              USD            RV   \n",
       "45034             2020-04-03  2020-04-18              USD            RV   \n",
       "45035             2020-04-08  2020-04-19              CAD            RV   \n",
       "45036             2020-03-25  2020-04-09              USD            RV   \n",
       "45037             2020-04-25  2020-05-10              USD            RV   \n",
       "\n",
       "       posting_id  area_business  total_open_amount baseline_create_date  \\\n",
       "45033         1.0            NaN           14772.55           2020-03-23   \n",
       "45034         1.0            NaN            1427.36           2020-04-03   \n",
       "45035         1.0            NaN           53237.81           2020-04-09   \n",
       "45036         1.0            NaN            4604.85           2020-03-25   \n",
       "45037         1.0            NaN            4331.48           2020-04-25   \n",
       "\n",
       "      cust_payment_terms    invoice_id  isOpen  \n",
       "45033               NAAX  1.930685e+09       1  \n",
       "45034               NAA8  1.930740e+09       1  \n",
       "45035               CA10  2.960627e+09       1  \n",
       "45036               NAC6  1.930705e+09       1  \n",
       "45037               NAU5  1.930827e+09       1  "
      ]
     },
     "execution_count": 90,
     "metadata": {},
     "output_type": "execute_result"
    }
   ],
   "source": [
    "#copying the dataset with clearing date null into new dataset\n",
    "x_df2 = df2.copy()\n",
    "x_df2.head()"
   ]
  },
  {
   "cell_type": "code",
   "execution_count": 91,
   "metadata": {},
   "outputs": [
    {
     "name": "stdout",
     "output_type": "stream",
     "text": [
      "['clear_date', 'buisness_year', 'document type', 'posting_id', 'area_business', 'isOpen']\n"
     ]
    }
   ],
   "source": [
    "#finding unique column in this dataset\n",
    "unique_cols =  [x for x in x_df2.columns if x_df2[x].nunique()<=1] \n",
    "print(unique_cols)"
   ]
  },
  {
   "cell_type": "code",
   "execution_count": 92,
   "metadata": {},
   "outputs": [],
   "source": [
    "#removing them\n",
    "x_df2.drop(unique_cols ,axis=1,inplace=True)"
   ]
  },
  {
   "cell_type": "code",
   "execution_count": 93,
   "metadata": {},
   "outputs": [],
   "source": [
    "x_df2.sort_values(by=\"document_create_date.1\", inplace=True)"
   ]
  },
  {
   "cell_type": "code",
   "execution_count": 94,
   "metadata": {},
   "outputs": [
    {
     "data": {
      "text/plain": [
       "array([1, 0, 4, 2, 3])"
      ]
     },
     "execution_count": 94,
     "metadata": {},
     "output_type": "execute_result"
    }
   ],
   "source": [
    "#Label encoding \n",
    "from sklearn import preprocessing \n",
    "label_encoder = preprocessing.LabelEncoder() \n",
    "x_df2['business_code']= label_encoder.fit_transform(x_df2['business_code']) \n",
    "  \n",
    "x_df2['business_code'].unique() "
   ]
  },
  {
   "cell_type": "code",
   "execution_count": 95,
   "metadata": {},
   "outputs": [
    {
     "data": {
      "text/plain": [
       "array([ 8, 22,  2, 10, 13, 20, 21, 35,  5, 17, 33, 32, 27,  9,  4, 34, 24,\n",
       "       23, 19, 26, 31,  6, 15, 14,  3,  0, 12, 30, 11,  1, 29, 18,  7, 28,\n",
       "       16, 25])"
      ]
     },
     "execution_count": 95,
     "metadata": {},
     "output_type": "execute_result"
    }
   ],
   "source": [
    "#Label encoding\n",
    "from sklearn import preprocessing \n",
    "label_encoder = preprocessing.LabelEncoder() \n",
    "x_df2['cust_payment_terms']= label_encoder.fit_transform(x_df2['cust_payment_terms']) \n",
    "  \n",
    "x_df2['cust_payment_terms'].unique()"
   ]
  },
  {
   "cell_type": "code",
   "execution_count": 96,
   "metadata": {},
   "outputs": [],
   "source": [
    "x_df2['baseline_weekday'] = x_df2['baseline_create_date'].dt.dayofweek"
   ]
  },
  {
   "cell_type": "code",
   "execution_count": 97,
   "metadata": {},
   "outputs": [],
   "source": [
    "x_df2['due_in_month'] = x_df2['due_in_date'].dt.month"
   ]
  },
  {
   "cell_type": "code",
   "execution_count": 98,
   "metadata": {},
   "outputs": [],
   "source": [
    "x_df2['due_in_weekday'] = x_df2['due_in_date'].dt.dayofweek"
   ]
  },
  {
   "cell_type": "code",
   "execution_count": 99,
   "metadata": {},
   "outputs": [],
   "source": [
    "#mapping the features created from the test set\n",
    "x_df2['cust_number_avg_amount'] = x_df2['cust_number'].map(mapper2).apply(np.ceil)"
   ]
  },
  {
   "cell_type": "code",
   "execution_count": 100,
   "metadata": {},
   "outputs": [],
   "source": [
    "#mapping the features created from the test set\n",
    "x_df2['name_customer_avg_delay'] = x_df2['name_customer'].map(mapper4).apply(np.ceil)"
   ]
  },
  {
   "cell_type": "code",
   "execution_count": 101,
   "metadata": {},
   "outputs": [],
   "source": [
    "#mapping the features created from the test set\n",
    "x_df2['terms_avg_delay'] = x_df2['cust_payment_terms'].map(mapper5).apply(np.ceil)"
   ]
  },
  {
   "cell_type": "code",
   "execution_count": 102,
   "metadata": {},
   "outputs": [],
   "source": [
    "#dropping the features which are not supported by model\n",
    "x_df2=x_df2.drop(['cust_number','name_customer','doc_id','posting_date','document_create_date','document_create_date.1','due_in_date','invoice_currency','baseline_create_date','invoice_id'],axis=1)"
   ]
  },
  {
   "cell_type": "code",
   "execution_count": 103,
   "metadata": {},
   "outputs": [
    {
     "data": {
      "text/plain": [
       "business_code              0.000000\n",
       "total_open_amount          0.000000\n",
       "cust_payment_terms         0.000000\n",
       "baseline_weekday           0.000000\n",
       "due_in_month               0.000000\n",
       "due_in_weekday             0.000000\n",
       "cust_number_avg_amount     0.042078\n",
       "name_customer_avg_delay    0.071673\n",
       "terms_avg_delay            0.070264\n",
       "dtype: float64"
      ]
     },
     "execution_count": 103,
     "metadata": {},
     "output_type": "execute_result"
    }
   ],
   "source": [
    "x_df2.isna().mean()"
   ]
  },
  {
   "cell_type": "code",
   "execution_count": 104,
   "metadata": {},
   "outputs": [
    {
     "data": {
      "text/plain": [
       "business_code              0.0\n",
       "total_open_amount          0.0\n",
       "cust_payment_terms         0.0\n",
       "baseline_weekday           0.0\n",
       "due_in_month               0.0\n",
       "due_in_weekday             0.0\n",
       "cust_number_avg_amount     0.0\n",
       "name_customer_avg_delay    0.0\n",
       "terms_avg_delay            0.0\n",
       "dtype: float64"
      ]
     },
     "execution_count": 104,
     "metadata": {},
     "output_type": "execute_result"
    }
   ],
   "source": [
    "#null value imputation\n",
    "x_df2['terms_avg_delay'].fillna(x_df2['terms_avg_delay'].mean(),inplace=True)\n",
    "x_df2['cust_number_avg_amount'].fillna(x_df2['cust_number_avg_amount'].mean(),inplace=True)\n",
    "x_df2['name_customer_avg_delay'].fillna(x_df2['name_customer_avg_delay'].mean(),inplace=True)\n",
    "x_df2.isna().mean()"
   ]
  },
  {
   "cell_type": "code",
   "execution_count": 105,
   "metadata": {},
   "outputs": [],
   "source": [
    "# standarisation: we use the StandardScaler from sklearn\n",
    "from sklearn import preprocessing \n",
    "scaler = preprocessing.StandardScaler() # create an object\n",
    "X_train_scaled = scaler.fit_transform(x_train) # fit the scaler to the train set, and then transform it\n",
    "X_df2_scaled = scaler.transform(x_df2) # transform the val set\n",
    "\n",
    "#Using SVR for modeling\n",
    "reg = SVR().fit(X_train_scaled,y_train)\n",
    "#storing predicted values in a new column as predicted delay\n",
    "x_df2['predicted_delay'] = reg.predict(X_df2_scaled)\n"
   ]
  },
  {
   "cell_type": "code",
   "execution_count": 106,
   "metadata": {},
   "outputs": [
    {
     "data": {
      "text/html": [
       "<div>\n",
       "<style scoped>\n",
       "    .dataframe tbody tr th:only-of-type {\n",
       "        vertical-align: middle;\n",
       "    }\n",
       "\n",
       "    .dataframe tbody tr th {\n",
       "        vertical-align: top;\n",
       "    }\n",
       "\n",
       "    .dataframe thead th {\n",
       "        text-align: right;\n",
       "    }\n",
       "</style>\n",
       "<table border=\"1\" class=\"dataframe\">\n",
       "  <thead>\n",
       "    <tr style=\"text-align: right;\">\n",
       "      <th></th>\n",
       "      <th>business_code</th>\n",
       "      <th>total_open_amount</th>\n",
       "      <th>cust_payment_terms</th>\n",
       "      <th>baseline_weekday</th>\n",
       "      <th>due_in_month</th>\n",
       "      <th>due_in_weekday</th>\n",
       "      <th>cust_number_avg_amount</th>\n",
       "      <th>name_customer_avg_delay</th>\n",
       "      <th>terms_avg_delay</th>\n",
       "      <th>predicted_delay</th>\n",
       "    </tr>\n",
       "  </thead>\n",
       "  <tbody>\n",
       "    <tr>\n",
       "      <th>49377</th>\n",
       "      <td>1</td>\n",
       "      <td>25487.12</td>\n",
       "      <td>8</td>\n",
       "      <td>3</td>\n",
       "      <td>3</td>\n",
       "      <td>4</td>\n",
       "      <td>51861.0</td>\n",
       "      <td>5.0</td>\n",
       "      <td>3.0000</td>\n",
       "      <td>2.549391</td>\n",
       "    </tr>\n",
       "    <tr>\n",
       "      <th>45574</th>\n",
       "      <td>1</td>\n",
       "      <td>33826.02</td>\n",
       "      <td>8</td>\n",
       "      <td>3</td>\n",
       "      <td>3</td>\n",
       "      <td>4</td>\n",
       "      <td>46689.0</td>\n",
       "      <td>1.0</td>\n",
       "      <td>3.0000</td>\n",
       "      <td>0.730448</td>\n",
       "    </tr>\n",
       "    <tr>\n",
       "      <th>46539</th>\n",
       "      <td>1</td>\n",
       "      <td>73306.40</td>\n",
       "      <td>22</td>\n",
       "      <td>3</td>\n",
       "      <td>3</td>\n",
       "      <td>4</td>\n",
       "      <td>21588.0</td>\n",
       "      <td>-2.0</td>\n",
       "      <td>1.0000</td>\n",
       "      <td>-1.466059</td>\n",
       "    </tr>\n",
       "    <tr>\n",
       "      <th>48462</th>\n",
       "      <td>0</td>\n",
       "      <td>58092.26</td>\n",
       "      <td>2</td>\n",
       "      <td>0</td>\n",
       "      <td>3</td>\n",
       "      <td>3</td>\n",
       "      <td>102828.0</td>\n",
       "      <td>6.0</td>\n",
       "      <td>1.5877</td>\n",
       "      <td>2.831737</td>\n",
       "    </tr>\n",
       "    <tr>\n",
       "      <th>49855</th>\n",
       "      <td>1</td>\n",
       "      <td>502.08</td>\n",
       "      <td>8</td>\n",
       "      <td>3</td>\n",
       "      <td>3</td>\n",
       "      <td>4</td>\n",
       "      <td>5828.0</td>\n",
       "      <td>1.0</td>\n",
       "      <td>3.0000</td>\n",
       "      <td>2.030726</td>\n",
       "    </tr>\n",
       "  </tbody>\n",
       "</table>\n",
       "</div>"
      ],
      "text/plain": [
       "       business_code  total_open_amount  cust_payment_terms  baseline_weekday  \\\n",
       "49377              1           25487.12                   8                 3   \n",
       "45574              1           33826.02                   8                 3   \n",
       "46539              1           73306.40                  22                 3   \n",
       "48462              0           58092.26                   2                 0   \n",
       "49855              1             502.08                   8                 3   \n",
       "\n",
       "       due_in_month  due_in_weekday  cust_number_avg_amount  \\\n",
       "49377             3               4                 51861.0   \n",
       "45574             3               4                 46689.0   \n",
       "46539             3               4                 21588.0   \n",
       "48462             3               3                102828.0   \n",
       "49855             3               4                  5828.0   \n",
       "\n",
       "       name_customer_avg_delay  terms_avg_delay  predicted_delay  \n",
       "49377                      5.0           3.0000         2.549391  \n",
       "45574                      1.0           3.0000         0.730448  \n",
       "46539                     -2.0           1.0000        -1.466059  \n",
       "48462                      6.0           1.5877         2.831737  \n",
       "49855                      1.0           3.0000         2.030726  "
      ]
     },
     "execution_count": 106,
     "metadata": {},
     "output_type": "execute_result"
    }
   ],
   "source": [
    "x_df2.head()"
   ]
  },
  {
   "cell_type": "code",
   "execution_count": 107,
   "metadata": {},
   "outputs": [],
   "source": [
    "#copying the predicted delay \n",
    "df2['predicted_delay'] = x_df2['predicted_delay']"
   ]
  },
  {
   "cell_type": "code",
   "execution_count": 108,
   "metadata": {},
   "outputs": [],
   "source": [
    "#creating predicted payment date by adding due date and predicted delay\n",
    "df2['predicted_payment_date'] = df2['due_in_date'].combine(df2['predicted_delay'], lambda x,y: x + pd.DateOffset(days=int(np.ceil(y))))"
   ]
  },
  {
   "cell_type": "code",
   "execution_count": 109,
   "metadata": {},
   "outputs": [
    {
     "data": {
      "text/html": [
       "<div>\n",
       "<style scoped>\n",
       "    .dataframe tbody tr th:only-of-type {\n",
       "        vertical-align: middle;\n",
       "    }\n",
       "\n",
       "    .dataframe tbody tr th {\n",
       "        vertical-align: top;\n",
       "    }\n",
       "\n",
       "    .dataframe thead th {\n",
       "        text-align: right;\n",
       "    }\n",
       "</style>\n",
       "<table border=\"1\" class=\"dataframe\">\n",
       "  <thead>\n",
       "    <tr style=\"text-align: right;\">\n",
       "      <th></th>\n",
       "      <th>business_code</th>\n",
       "      <th>cust_number</th>\n",
       "      <th>name_customer</th>\n",
       "      <th>clear_date</th>\n",
       "      <th>buisness_year</th>\n",
       "      <th>doc_id</th>\n",
       "      <th>posting_date</th>\n",
       "      <th>document_create_date</th>\n",
       "      <th>document_create_date.1</th>\n",
       "      <th>due_in_date</th>\n",
       "      <th>...</th>\n",
       "      <th>document type</th>\n",
       "      <th>posting_id</th>\n",
       "      <th>area_business</th>\n",
       "      <th>total_open_amount</th>\n",
       "      <th>baseline_create_date</th>\n",
       "      <th>cust_payment_terms</th>\n",
       "      <th>invoice_id</th>\n",
       "      <th>isOpen</th>\n",
       "      <th>predicted_delay</th>\n",
       "      <th>predicted_payment_date</th>\n",
       "    </tr>\n",
       "  </thead>\n",
       "  <tbody>\n",
       "    <tr>\n",
       "      <th>45033</th>\n",
       "      <td>U001</td>\n",
       "      <td>200794332</td>\n",
       "      <td>COST</td>\n",
       "      <td>NaT</td>\n",
       "      <td>2020.0</td>\n",
       "      <td>1.930685e+09</td>\n",
       "      <td>2020-03-23</td>\n",
       "      <td>2020-03-21</td>\n",
       "      <td>2020-03-23</td>\n",
       "      <td>2020-04-07</td>\n",
       "      <td>...</td>\n",
       "      <td>RV</td>\n",
       "      <td>1.0</td>\n",
       "      <td>NaN</td>\n",
       "      <td>14772.55</td>\n",
       "      <td>2020-03-23</td>\n",
       "      <td>NAAX</td>\n",
       "      <td>1.930685e+09</td>\n",
       "      <td>1</td>\n",
       "      <td>2.450324</td>\n",
       "      <td>2020-04-10</td>\n",
       "    </tr>\n",
       "    <tr>\n",
       "      <th>45034</th>\n",
       "      <td>U001</td>\n",
       "      <td>0100043975</td>\n",
       "      <td>JAVA</td>\n",
       "      <td>NaT</td>\n",
       "      <td>2020.0</td>\n",
       "      <td>1.930740e+09</td>\n",
       "      <td>2020-04-03</td>\n",
       "      <td>2020-04-03</td>\n",
       "      <td>2020-04-03</td>\n",
       "      <td>2020-04-18</td>\n",
       "      <td>...</td>\n",
       "      <td>RV</td>\n",
       "      <td>1.0</td>\n",
       "      <td>NaN</td>\n",
       "      <td>1427.36</td>\n",
       "      <td>2020-04-03</td>\n",
       "      <td>NAA8</td>\n",
       "      <td>1.930740e+09</td>\n",
       "      <td>1</td>\n",
       "      <td>2.854110</td>\n",
       "      <td>2020-04-21</td>\n",
       "    </tr>\n",
       "    <tr>\n",
       "      <th>45035</th>\n",
       "      <td>CA02</td>\n",
       "      <td>0140106408</td>\n",
       "      <td>WAL-M corporation</td>\n",
       "      <td>NaT</td>\n",
       "      <td>2020.0</td>\n",
       "      <td>2.960627e+09</td>\n",
       "      <td>2020-04-08</td>\n",
       "      <td>2020-04-08</td>\n",
       "      <td>2020-04-08</td>\n",
       "      <td>2020-04-19</td>\n",
       "      <td>...</td>\n",
       "      <td>RV</td>\n",
       "      <td>1.0</td>\n",
       "      <td>NaN</td>\n",
       "      <td>53237.81</td>\n",
       "      <td>2020-04-09</td>\n",
       "      <td>CA10</td>\n",
       "      <td>2.960627e+09</td>\n",
       "      <td>1</td>\n",
       "      <td>8.166044</td>\n",
       "      <td>2020-04-28</td>\n",
       "    </tr>\n",
       "    <tr>\n",
       "      <th>45036</th>\n",
       "      <td>U001</td>\n",
       "      <td>0200762301</td>\n",
       "      <td>C&amp;S WH trust</td>\n",
       "      <td>NaT</td>\n",
       "      <td>2020.0</td>\n",
       "      <td>1.930705e+09</td>\n",
       "      <td>2020-03-25</td>\n",
       "      <td>2020-03-26</td>\n",
       "      <td>2020-03-25</td>\n",
       "      <td>2020-04-09</td>\n",
       "      <td>...</td>\n",
       "      <td>RV</td>\n",
       "      <td>1.0</td>\n",
       "      <td>NaN</td>\n",
       "      <td>4604.85</td>\n",
       "      <td>2020-03-25</td>\n",
       "      <td>NAC6</td>\n",
       "      <td>1.930705e+09</td>\n",
       "      <td>1</td>\n",
       "      <td>-1.828346</td>\n",
       "      <td>2020-04-08</td>\n",
       "    </tr>\n",
       "    <tr>\n",
       "      <th>45037</th>\n",
       "      <td>U001</td>\n",
       "      <td>0200772670</td>\n",
       "      <td>ASSOCIAT associates</td>\n",
       "      <td>NaT</td>\n",
       "      <td>2020.0</td>\n",
       "      <td>1.930827e+09</td>\n",
       "      <td>2020-04-25</td>\n",
       "      <td>2020-04-25</td>\n",
       "      <td>2020-04-25</td>\n",
       "      <td>2020-05-10</td>\n",
       "      <td>...</td>\n",
       "      <td>RV</td>\n",
       "      <td>1.0</td>\n",
       "      <td>NaN</td>\n",
       "      <td>4331.48</td>\n",
       "      <td>2020-04-25</td>\n",
       "      <td>NAU5</td>\n",
       "      <td>1.930827e+09</td>\n",
       "      <td>1</td>\n",
       "      <td>2.816837</td>\n",
       "      <td>2020-05-13</td>\n",
       "    </tr>\n",
       "  </tbody>\n",
       "</table>\n",
       "<p>5 rows × 21 columns</p>\n",
       "</div>"
      ],
      "text/plain": [
       "      business_code cust_number        name_customer clear_date  \\\n",
       "45033          U001   200794332                COST         NaT   \n",
       "45034          U001  0100043975                JAVA         NaT   \n",
       "45035          CA02  0140106408    WAL-M corporation        NaT   \n",
       "45036          U001  0200762301         C&S WH trust        NaT   \n",
       "45037          U001  0200772670  ASSOCIAT associates        NaT   \n",
       "\n",
       "       buisness_year        doc_id posting_date document_create_date  \\\n",
       "45033         2020.0  1.930685e+09   2020-03-23           2020-03-21   \n",
       "45034         2020.0  1.930740e+09   2020-04-03           2020-04-03   \n",
       "45035         2020.0  2.960627e+09   2020-04-08           2020-04-08   \n",
       "45036         2020.0  1.930705e+09   2020-03-25           2020-03-26   \n",
       "45037         2020.0  1.930827e+09   2020-04-25           2020-04-25   \n",
       "\n",
       "      document_create_date.1 due_in_date  ... document type posting_id  \\\n",
       "45033             2020-03-23  2020-04-07  ...            RV        1.0   \n",
       "45034             2020-04-03  2020-04-18  ...            RV        1.0   \n",
       "45035             2020-04-08  2020-04-19  ...            RV        1.0   \n",
       "45036             2020-03-25  2020-04-09  ...            RV        1.0   \n",
       "45037             2020-04-25  2020-05-10  ...            RV        1.0   \n",
       "\n",
       "       area_business  total_open_amount  baseline_create_date  \\\n",
       "45033            NaN           14772.55            2020-03-23   \n",
       "45034            NaN            1427.36            2020-04-03   \n",
       "45035            NaN           53237.81            2020-04-09   \n",
       "45036            NaN            4604.85            2020-03-25   \n",
       "45037            NaN            4331.48            2020-04-25   \n",
       "\n",
       "      cust_payment_terms    invoice_id  isOpen  predicted_delay  \\\n",
       "45033               NAAX  1.930685e+09       1         2.450324   \n",
       "45034               NAA8  1.930740e+09       1         2.854110   \n",
       "45035               CA10  2.960627e+09       1         8.166044   \n",
       "45036               NAC6  1.930705e+09       1        -1.828346   \n",
       "45037               NAU5  1.930827e+09       1         2.816837   \n",
       "\n",
       "       predicted_payment_date  \n",
       "45033              2020-04-10  \n",
       "45034              2020-04-21  \n",
       "45035              2020-04-28  \n",
       "45036              2020-04-08  \n",
       "45037              2020-05-13  \n",
       "\n",
       "[5 rows x 21 columns]"
      ]
     },
     "execution_count": 109,
     "metadata": {},
     "output_type": "execute_result"
    }
   ],
   "source": [
    "df2.head()"
   ]
  },
  {
   "cell_type": "code",
   "execution_count": 110,
   "metadata": {},
   "outputs": [],
   "source": [
    "#Binning\n",
    "conditions = [\n",
    "    (df2['predicted_delay'] <= 15)&(df2['predicted_delay']>0),\n",
    "    (df2['predicted_delay'] <= 30) & (df2['predicted_delay'] > 15),\n",
    "    (df2['predicted_delay'] <=45) & (df2['predicted_delay'] > 30),\n",
    "    (df2['predicted_delay'] <= 60) & (df2['predicted_delay'] > 45),\n",
    "    (df2['predicted_delay'] > 60),\n",
    "    (df2['predicted_delay']<=0)\n",
    "    ]\n",
    "values=['0-15','16-30','31-45','46-60','Greater than 60','Ontime']\n",
    "df2['PassdueBuckets'] = np.select(conditions, values)"
   ]
  },
  {
   "cell_type": "code",
   "execution_count": 111,
   "metadata": {},
   "outputs": [
    {
     "data": {
      "text/html": [
       "<div>\n",
       "<style scoped>\n",
       "    .dataframe tbody tr th:only-of-type {\n",
       "        vertical-align: middle;\n",
       "    }\n",
       "\n",
       "    .dataframe tbody tr th {\n",
       "        vertical-align: top;\n",
       "    }\n",
       "\n",
       "    .dataframe thead th {\n",
       "        text-align: right;\n",
       "    }\n",
       "</style>\n",
       "<table border=\"1\" class=\"dataframe\">\n",
       "  <thead>\n",
       "    <tr style=\"text-align: right;\">\n",
       "      <th></th>\n",
       "      <th>business_code</th>\n",
       "      <th>cust_number</th>\n",
       "      <th>name_customer</th>\n",
       "      <th>clear_date</th>\n",
       "      <th>buisness_year</th>\n",
       "      <th>doc_id</th>\n",
       "      <th>posting_date</th>\n",
       "      <th>document_create_date</th>\n",
       "      <th>document_create_date.1</th>\n",
       "      <th>due_in_date</th>\n",
       "      <th>...</th>\n",
       "      <th>posting_id</th>\n",
       "      <th>area_business</th>\n",
       "      <th>total_open_amount</th>\n",
       "      <th>baseline_create_date</th>\n",
       "      <th>cust_payment_terms</th>\n",
       "      <th>invoice_id</th>\n",
       "      <th>isOpen</th>\n",
       "      <th>predicted_delay</th>\n",
       "      <th>predicted_payment_date</th>\n",
       "      <th>PassdueBuckets</th>\n",
       "    </tr>\n",
       "  </thead>\n",
       "  <tbody>\n",
       "    <tr>\n",
       "      <th>45033</th>\n",
       "      <td>U001</td>\n",
       "      <td>200794332</td>\n",
       "      <td>COST</td>\n",
       "      <td>NaT</td>\n",
       "      <td>2020.0</td>\n",
       "      <td>1.930685e+09</td>\n",
       "      <td>2020-03-23</td>\n",
       "      <td>2020-03-21</td>\n",
       "      <td>2020-03-23</td>\n",
       "      <td>2020-04-07</td>\n",
       "      <td>...</td>\n",
       "      <td>1.0</td>\n",
       "      <td>NaN</td>\n",
       "      <td>14772.55</td>\n",
       "      <td>2020-03-23</td>\n",
       "      <td>NAAX</td>\n",
       "      <td>1.930685e+09</td>\n",
       "      <td>1</td>\n",
       "      <td>2.450324</td>\n",
       "      <td>2020-04-10</td>\n",
       "      <td>0-15</td>\n",
       "    </tr>\n",
       "    <tr>\n",
       "      <th>45034</th>\n",
       "      <td>U001</td>\n",
       "      <td>0100043975</td>\n",
       "      <td>JAVA</td>\n",
       "      <td>NaT</td>\n",
       "      <td>2020.0</td>\n",
       "      <td>1.930740e+09</td>\n",
       "      <td>2020-04-03</td>\n",
       "      <td>2020-04-03</td>\n",
       "      <td>2020-04-03</td>\n",
       "      <td>2020-04-18</td>\n",
       "      <td>...</td>\n",
       "      <td>1.0</td>\n",
       "      <td>NaN</td>\n",
       "      <td>1427.36</td>\n",
       "      <td>2020-04-03</td>\n",
       "      <td>NAA8</td>\n",
       "      <td>1.930740e+09</td>\n",
       "      <td>1</td>\n",
       "      <td>2.854110</td>\n",
       "      <td>2020-04-21</td>\n",
       "      <td>0-15</td>\n",
       "    </tr>\n",
       "    <tr>\n",
       "      <th>45035</th>\n",
       "      <td>CA02</td>\n",
       "      <td>0140106408</td>\n",
       "      <td>WAL-M corporation</td>\n",
       "      <td>NaT</td>\n",
       "      <td>2020.0</td>\n",
       "      <td>2.960627e+09</td>\n",
       "      <td>2020-04-08</td>\n",
       "      <td>2020-04-08</td>\n",
       "      <td>2020-04-08</td>\n",
       "      <td>2020-04-19</td>\n",
       "      <td>...</td>\n",
       "      <td>1.0</td>\n",
       "      <td>NaN</td>\n",
       "      <td>53237.81</td>\n",
       "      <td>2020-04-09</td>\n",
       "      <td>CA10</td>\n",
       "      <td>2.960627e+09</td>\n",
       "      <td>1</td>\n",
       "      <td>8.166044</td>\n",
       "      <td>2020-04-28</td>\n",
       "      <td>0-15</td>\n",
       "    </tr>\n",
       "    <tr>\n",
       "      <th>45036</th>\n",
       "      <td>U001</td>\n",
       "      <td>0200762301</td>\n",
       "      <td>C&amp;S WH trust</td>\n",
       "      <td>NaT</td>\n",
       "      <td>2020.0</td>\n",
       "      <td>1.930705e+09</td>\n",
       "      <td>2020-03-25</td>\n",
       "      <td>2020-03-26</td>\n",
       "      <td>2020-03-25</td>\n",
       "      <td>2020-04-09</td>\n",
       "      <td>...</td>\n",
       "      <td>1.0</td>\n",
       "      <td>NaN</td>\n",
       "      <td>4604.85</td>\n",
       "      <td>2020-03-25</td>\n",
       "      <td>NAC6</td>\n",
       "      <td>1.930705e+09</td>\n",
       "      <td>1</td>\n",
       "      <td>-1.828346</td>\n",
       "      <td>2020-04-08</td>\n",
       "      <td>Ontime</td>\n",
       "    </tr>\n",
       "    <tr>\n",
       "      <th>45037</th>\n",
       "      <td>U001</td>\n",
       "      <td>0200772670</td>\n",
       "      <td>ASSOCIAT associates</td>\n",
       "      <td>NaT</td>\n",
       "      <td>2020.0</td>\n",
       "      <td>1.930827e+09</td>\n",
       "      <td>2020-04-25</td>\n",
       "      <td>2020-04-25</td>\n",
       "      <td>2020-04-25</td>\n",
       "      <td>2020-05-10</td>\n",
       "      <td>...</td>\n",
       "      <td>1.0</td>\n",
       "      <td>NaN</td>\n",
       "      <td>4331.48</td>\n",
       "      <td>2020-04-25</td>\n",
       "      <td>NAU5</td>\n",
       "      <td>1.930827e+09</td>\n",
       "      <td>1</td>\n",
       "      <td>2.816837</td>\n",
       "      <td>2020-05-13</td>\n",
       "      <td>0-15</td>\n",
       "    </tr>\n",
       "  </tbody>\n",
       "</table>\n",
       "<p>5 rows × 22 columns</p>\n",
       "</div>"
      ],
      "text/plain": [
       "      business_code cust_number        name_customer clear_date  \\\n",
       "45033          U001   200794332                COST         NaT   \n",
       "45034          U001  0100043975                JAVA         NaT   \n",
       "45035          CA02  0140106408    WAL-M corporation        NaT   \n",
       "45036          U001  0200762301         C&S WH trust        NaT   \n",
       "45037          U001  0200772670  ASSOCIAT associates        NaT   \n",
       "\n",
       "       buisness_year        doc_id posting_date document_create_date  \\\n",
       "45033         2020.0  1.930685e+09   2020-03-23           2020-03-21   \n",
       "45034         2020.0  1.930740e+09   2020-04-03           2020-04-03   \n",
       "45035         2020.0  2.960627e+09   2020-04-08           2020-04-08   \n",
       "45036         2020.0  1.930705e+09   2020-03-25           2020-03-26   \n",
       "45037         2020.0  1.930827e+09   2020-04-25           2020-04-25   \n",
       "\n",
       "      document_create_date.1 due_in_date  ... posting_id area_business  \\\n",
       "45033             2020-03-23  2020-04-07  ...        1.0           NaN   \n",
       "45034             2020-04-03  2020-04-18  ...        1.0           NaN   \n",
       "45035             2020-04-08  2020-04-19  ...        1.0           NaN   \n",
       "45036             2020-03-25  2020-04-09  ...        1.0           NaN   \n",
       "45037             2020-04-25  2020-05-10  ...        1.0           NaN   \n",
       "\n",
       "       total_open_amount  baseline_create_date  cust_payment_terms  \\\n",
       "45033           14772.55            2020-03-23                NAAX   \n",
       "45034            1427.36            2020-04-03                NAA8   \n",
       "45035           53237.81            2020-04-09                CA10   \n",
       "45036            4604.85            2020-03-25                NAC6   \n",
       "45037            4331.48            2020-04-25                NAU5   \n",
       "\n",
       "         invoice_id isOpen  predicted_delay  predicted_payment_date  \\\n",
       "45033  1.930685e+09      1         2.450324              2020-04-10   \n",
       "45034  1.930740e+09      1         2.854110              2020-04-21   \n",
       "45035  2.960627e+09      1         8.166044              2020-04-28   \n",
       "45036  1.930705e+09      1        -1.828346              2020-04-08   \n",
       "45037  1.930827e+09      1         2.816837              2020-05-13   \n",
       "\n",
       "       PassdueBuckets  \n",
       "45033            0-15  \n",
       "45034            0-15  \n",
       "45035            0-15  \n",
       "45036          Ontime  \n",
       "45037            0-15  \n",
       "\n",
       "[5 rows x 22 columns]"
      ]
     },
     "execution_count": 111,
     "metadata": {},
     "output_type": "execute_result"
    }
   ],
   "source": [
    "df2.head()"
   ]
  },
  {
   "cell_type": "code",
   "execution_count": 112,
   "metadata": {},
   "outputs": [
    {
     "name": "stdout",
     "output_type": "stream",
     "text": [
      "1   2   3\n"
     ]
    }
   ],
   "source": [
    "a=1\n",
    "b=2\n",
    "c=3\n",
    "print(a,\" \",b,\" \",c)"
   ]
  },
  {
   "cell_type": "code",
   "execution_count": 114,
   "metadata": {},
   "outputs": [],
   "source": [
    "import pickle\n",
    "filename = '1806291.pkl'\n",
    "pickle.dump(reg, open(filename, 'wb'))\n"
   ]
  },
  {
   "cell_type": "code",
   "execution_count": null,
   "metadata": {},
   "outputs": [],
   "source": []
  }
 ],
 "metadata": {
  "kernelspec": {
   "display_name": "Python 3",
   "language": "python",
   "name": "python3"
  },
  "language_info": {
   "codemirror_mode": {
    "name": "ipython",
    "version": 3
   },
   "file_extension": ".py",
   "mimetype": "text/x-python",
   "name": "python",
   "nbconvert_exporter": "python",
   "pygments_lexer": "ipython3",
   "version": "3.7.6"
  }
 },
 "nbformat": 4,
 "nbformat_minor": 4
}
